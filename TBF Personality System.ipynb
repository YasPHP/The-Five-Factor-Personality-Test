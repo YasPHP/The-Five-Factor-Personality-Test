{
 "cells": [
  {
   "cell_type": "code",
   "execution_count": 1,
   "metadata": {},
   "outputs": [],
   "source": [
    "# pandas library import \n",
    "import pandas as pd\n",
    "\n",
    "# dataframe creation \n",
    "df = pd.read_csv('data-final.csv', delimiter=\"\\t\")\n",
    "\n",
    "# (note: specify path of dataset file if no compiled directory)\n",
    "# df = pd.read_csv(r'/Users/.../data-final.csv', delimiter=\"\\t\")"
   ]
  },
  {
   "cell_type": "code",
   "execution_count": 2,
   "metadata": {},
   "outputs": [
    {
     "data": {
      "text/html": [
       "<div>\n",
       "<style scoped>\n",
       "    .dataframe tbody tr th:only-of-type {\n",
       "        vertical-align: middle;\n",
       "    }\n",
       "\n",
       "    .dataframe tbody tr th {\n",
       "        vertical-align: top;\n",
       "    }\n",
       "\n",
       "    .dataframe thead th {\n",
       "        text-align: right;\n",
       "    }\n",
       "</style>\n",
       "<table border=\"1\" class=\"dataframe\">\n",
       "  <thead>\n",
       "    <tr style=\"text-align: right;\">\n",
       "      <th></th>\n",
       "      <th>EXT1</th>\n",
       "      <th>EXT2</th>\n",
       "      <th>EXT3</th>\n",
       "      <th>EXT4</th>\n",
       "      <th>EXT5</th>\n",
       "      <th>EXT6</th>\n",
       "      <th>EXT7</th>\n",
       "      <th>EXT8</th>\n",
       "      <th>EXT9</th>\n",
       "      <th>EXT10</th>\n",
       "      <th>...</th>\n",
       "      <th>dateload</th>\n",
       "      <th>screenw</th>\n",
       "      <th>screenh</th>\n",
       "      <th>introelapse</th>\n",
       "      <th>testelapse</th>\n",
       "      <th>endelapse</th>\n",
       "      <th>IPC</th>\n",
       "      <th>country</th>\n",
       "      <th>lat_appx_lots_of_err</th>\n",
       "      <th>long_appx_lots_of_err</th>\n",
       "    </tr>\n",
       "  </thead>\n",
       "  <tbody>\n",
       "    <tr>\n",
       "      <th>0</th>\n",
       "      <td>4.0</td>\n",
       "      <td>1.0</td>\n",
       "      <td>5.0</td>\n",
       "      <td>2.0</td>\n",
       "      <td>5.0</td>\n",
       "      <td>1.0</td>\n",
       "      <td>5.0</td>\n",
       "      <td>2.0</td>\n",
       "      <td>4.0</td>\n",
       "      <td>1.0</td>\n",
       "      <td>...</td>\n",
       "      <td>2016-03-03 02:01:01</td>\n",
       "      <td>768.0</td>\n",
       "      <td>1024.0</td>\n",
       "      <td>9.0</td>\n",
       "      <td>234.0</td>\n",
       "      <td>6</td>\n",
       "      <td>1</td>\n",
       "      <td>GB</td>\n",
       "      <td>51.5448</td>\n",
       "      <td>0.1991</td>\n",
       "    </tr>\n",
       "    <tr>\n",
       "      <th>1</th>\n",
       "      <td>3.0</td>\n",
       "      <td>5.0</td>\n",
       "      <td>3.0</td>\n",
       "      <td>4.0</td>\n",
       "      <td>3.0</td>\n",
       "      <td>3.0</td>\n",
       "      <td>2.0</td>\n",
       "      <td>5.0</td>\n",
       "      <td>1.0</td>\n",
       "      <td>5.0</td>\n",
       "      <td>...</td>\n",
       "      <td>2016-03-03 02:01:20</td>\n",
       "      <td>1360.0</td>\n",
       "      <td>768.0</td>\n",
       "      <td>12.0</td>\n",
       "      <td>179.0</td>\n",
       "      <td>11</td>\n",
       "      <td>1</td>\n",
       "      <td>MY</td>\n",
       "      <td>3.1698</td>\n",
       "      <td>101.706</td>\n",
       "    </tr>\n",
       "    <tr>\n",
       "      <th>2</th>\n",
       "      <td>2.0</td>\n",
       "      <td>3.0</td>\n",
       "      <td>4.0</td>\n",
       "      <td>4.0</td>\n",
       "      <td>3.0</td>\n",
       "      <td>2.0</td>\n",
       "      <td>1.0</td>\n",
       "      <td>3.0</td>\n",
       "      <td>2.0</td>\n",
       "      <td>5.0</td>\n",
       "      <td>...</td>\n",
       "      <td>2016-03-03 02:01:56</td>\n",
       "      <td>1366.0</td>\n",
       "      <td>768.0</td>\n",
       "      <td>3.0</td>\n",
       "      <td>186.0</td>\n",
       "      <td>7</td>\n",
       "      <td>1</td>\n",
       "      <td>GB</td>\n",
       "      <td>54.9119</td>\n",
       "      <td>-1.3833</td>\n",
       "    </tr>\n",
       "    <tr>\n",
       "      <th>3</th>\n",
       "      <td>2.0</td>\n",
       "      <td>2.0</td>\n",
       "      <td>2.0</td>\n",
       "      <td>3.0</td>\n",
       "      <td>4.0</td>\n",
       "      <td>2.0</td>\n",
       "      <td>2.0</td>\n",
       "      <td>4.0</td>\n",
       "      <td>1.0</td>\n",
       "      <td>4.0</td>\n",
       "      <td>...</td>\n",
       "      <td>2016-03-03 02:02:02</td>\n",
       "      <td>1920.0</td>\n",
       "      <td>1200.0</td>\n",
       "      <td>186.0</td>\n",
       "      <td>219.0</td>\n",
       "      <td>7</td>\n",
       "      <td>1</td>\n",
       "      <td>GB</td>\n",
       "      <td>51.75</td>\n",
       "      <td>-1.25</td>\n",
       "    </tr>\n",
       "    <tr>\n",
       "      <th>4</th>\n",
       "      <td>3.0</td>\n",
       "      <td>3.0</td>\n",
       "      <td>3.0</td>\n",
       "      <td>3.0</td>\n",
       "      <td>5.0</td>\n",
       "      <td>3.0</td>\n",
       "      <td>3.0</td>\n",
       "      <td>5.0</td>\n",
       "      <td>3.0</td>\n",
       "      <td>4.0</td>\n",
       "      <td>...</td>\n",
       "      <td>2016-03-03 02:02:57</td>\n",
       "      <td>1366.0</td>\n",
       "      <td>768.0</td>\n",
       "      <td>8.0</td>\n",
       "      <td>315.0</td>\n",
       "      <td>17</td>\n",
       "      <td>2</td>\n",
       "      <td>KE</td>\n",
       "      <td>1.0</td>\n",
       "      <td>38.0</td>\n",
       "    </tr>\n",
       "    <tr>\n",
       "      <th>...</th>\n",
       "      <td>...</td>\n",
       "      <td>...</td>\n",
       "      <td>...</td>\n",
       "      <td>...</td>\n",
       "      <td>...</td>\n",
       "      <td>...</td>\n",
       "      <td>...</td>\n",
       "      <td>...</td>\n",
       "      <td>...</td>\n",
       "      <td>...</td>\n",
       "      <td>...</td>\n",
       "      <td>...</td>\n",
       "      <td>...</td>\n",
       "      <td>...</td>\n",
       "      <td>...</td>\n",
       "      <td>...</td>\n",
       "      <td>...</td>\n",
       "      <td>...</td>\n",
       "      <td>...</td>\n",
       "      <td>...</td>\n",
       "      <td>...</td>\n",
       "    </tr>\n",
       "    <tr>\n",
       "      <th>1015336</th>\n",
       "      <td>4.0</td>\n",
       "      <td>2.0</td>\n",
       "      <td>4.0</td>\n",
       "      <td>3.0</td>\n",
       "      <td>4.0</td>\n",
       "      <td>3.0</td>\n",
       "      <td>3.0</td>\n",
       "      <td>3.0</td>\n",
       "      <td>3.0</td>\n",
       "      <td>3.0</td>\n",
       "      <td>...</td>\n",
       "      <td>2018-11-08 12:04:58</td>\n",
       "      <td>1920.0</td>\n",
       "      <td>1080.0</td>\n",
       "      <td>3.0</td>\n",
       "      <td>160.0</td>\n",
       "      <td>10</td>\n",
       "      <td>2</td>\n",
       "      <td>US</td>\n",
       "      <td>39.9883</td>\n",
       "      <td>-75.2208</td>\n",
       "    </tr>\n",
       "    <tr>\n",
       "      <th>1015337</th>\n",
       "      <td>4.0</td>\n",
       "      <td>3.0</td>\n",
       "      <td>4.0</td>\n",
       "      <td>3.0</td>\n",
       "      <td>3.0</td>\n",
       "      <td>3.0</td>\n",
       "      <td>4.0</td>\n",
       "      <td>4.0</td>\n",
       "      <td>3.0</td>\n",
       "      <td>3.0</td>\n",
       "      <td>...</td>\n",
       "      <td>2018-11-08 12:07:18</td>\n",
       "      <td>1920.0</td>\n",
       "      <td>1080.0</td>\n",
       "      <td>3.0</td>\n",
       "      <td>122.0</td>\n",
       "      <td>7</td>\n",
       "      <td>1</td>\n",
       "      <td>US</td>\n",
       "      <td>38.0</td>\n",
       "      <td>-97.0</td>\n",
       "    </tr>\n",
       "    <tr>\n",
       "      <th>1015338</th>\n",
       "      <td>4.0</td>\n",
       "      <td>2.0</td>\n",
       "      <td>4.0</td>\n",
       "      <td>3.0</td>\n",
       "      <td>5.0</td>\n",
       "      <td>1.0</td>\n",
       "      <td>4.0</td>\n",
       "      <td>2.0</td>\n",
       "      <td>4.0</td>\n",
       "      <td>4.0</td>\n",
       "      <td>...</td>\n",
       "      <td>2018-11-08 12:07:49</td>\n",
       "      <td>1920.0</td>\n",
       "      <td>1080.0</td>\n",
       "      <td>2.0</td>\n",
       "      <td>135.0</td>\n",
       "      <td>12</td>\n",
       "      <td>6</td>\n",
       "      <td>US</td>\n",
       "      <td>36.1473</td>\n",
       "      <td>-86.777</td>\n",
       "    </tr>\n",
       "    <tr>\n",
       "      <th>1015339</th>\n",
       "      <td>2.0</td>\n",
       "      <td>4.0</td>\n",
       "      <td>3.0</td>\n",
       "      <td>4.0</td>\n",
       "      <td>2.0</td>\n",
       "      <td>2.0</td>\n",
       "      <td>1.0</td>\n",
       "      <td>4.0</td>\n",
       "      <td>2.0</td>\n",
       "      <td>4.0</td>\n",
       "      <td>...</td>\n",
       "      <td>2018-11-08 12:08:34</td>\n",
       "      <td>1920.0</td>\n",
       "      <td>1080.0</td>\n",
       "      <td>6.0</td>\n",
       "      <td>212.0</td>\n",
       "      <td>8</td>\n",
       "      <td>1</td>\n",
       "      <td>US</td>\n",
       "      <td>34.1067</td>\n",
       "      <td>-117.8067</td>\n",
       "    </tr>\n",
       "    <tr>\n",
       "      <th>1015340</th>\n",
       "      <td>4.0</td>\n",
       "      <td>2.0</td>\n",
       "      <td>4.0</td>\n",
       "      <td>2.0</td>\n",
       "      <td>4.0</td>\n",
       "      <td>1.0</td>\n",
       "      <td>4.0</td>\n",
       "      <td>2.0</td>\n",
       "      <td>4.0</td>\n",
       "      <td>4.0</td>\n",
       "      <td>...</td>\n",
       "      <td>2018-11-08 12:08:45</td>\n",
       "      <td>1920.0</td>\n",
       "      <td>1080.0</td>\n",
       "      <td>3.0</td>\n",
       "      <td>176.0</td>\n",
       "      <td>9</td>\n",
       "      <td>1</td>\n",
       "      <td>US</td>\n",
       "      <td>38.0</td>\n",
       "      <td>-97.0</td>\n",
       "    </tr>\n",
       "  </tbody>\n",
       "</table>\n",
       "<p>1015341 rows × 110 columns</p>\n",
       "</div>"
      ],
      "text/plain": [
       "         EXT1  EXT2  EXT3  EXT4  EXT5  EXT6  EXT7  EXT8  EXT9  EXT10  ...  \\\n",
       "0         4.0   1.0   5.0   2.0   5.0   1.0   5.0   2.0   4.0    1.0  ...   \n",
       "1         3.0   5.0   3.0   4.0   3.0   3.0   2.0   5.0   1.0    5.0  ...   \n",
       "2         2.0   3.0   4.0   4.0   3.0   2.0   1.0   3.0   2.0    5.0  ...   \n",
       "3         2.0   2.0   2.0   3.0   4.0   2.0   2.0   4.0   1.0    4.0  ...   \n",
       "4         3.0   3.0   3.0   3.0   5.0   3.0   3.0   5.0   3.0    4.0  ...   \n",
       "...       ...   ...   ...   ...   ...   ...   ...   ...   ...    ...  ...   \n",
       "1015336   4.0   2.0   4.0   3.0   4.0   3.0   3.0   3.0   3.0    3.0  ...   \n",
       "1015337   4.0   3.0   4.0   3.0   3.0   3.0   4.0   4.0   3.0    3.0  ...   \n",
       "1015338   4.0   2.0   4.0   3.0   5.0   1.0   4.0   2.0   4.0    4.0  ...   \n",
       "1015339   2.0   4.0   3.0   4.0   2.0   2.0   1.0   4.0   2.0    4.0  ...   \n",
       "1015340   4.0   2.0   4.0   2.0   4.0   1.0   4.0   2.0   4.0    4.0  ...   \n",
       "\n",
       "                    dateload  screenw  screenh  introelapse  testelapse  \\\n",
       "0        2016-03-03 02:01:01    768.0   1024.0          9.0       234.0   \n",
       "1        2016-03-03 02:01:20   1360.0    768.0         12.0       179.0   \n",
       "2        2016-03-03 02:01:56   1366.0    768.0          3.0       186.0   \n",
       "3        2016-03-03 02:02:02   1920.0   1200.0        186.0       219.0   \n",
       "4        2016-03-03 02:02:57   1366.0    768.0          8.0       315.0   \n",
       "...                      ...      ...      ...          ...         ...   \n",
       "1015336  2018-11-08 12:04:58   1920.0   1080.0          3.0       160.0   \n",
       "1015337  2018-11-08 12:07:18   1920.0   1080.0          3.0       122.0   \n",
       "1015338  2018-11-08 12:07:49   1920.0   1080.0          2.0       135.0   \n",
       "1015339  2018-11-08 12:08:34   1920.0   1080.0          6.0       212.0   \n",
       "1015340  2018-11-08 12:08:45   1920.0   1080.0          3.0       176.0   \n",
       "\n",
       "         endelapse  IPC  country  lat_appx_lots_of_err  long_appx_lots_of_err  \n",
       "0                6    1       GB               51.5448                 0.1991  \n",
       "1               11    1       MY                3.1698                101.706  \n",
       "2                7    1       GB               54.9119                -1.3833  \n",
       "3                7    1       GB                 51.75                  -1.25  \n",
       "4               17    2       KE                   1.0                   38.0  \n",
       "...            ...  ...      ...                   ...                    ...  \n",
       "1015336         10    2       US               39.9883               -75.2208  \n",
       "1015337          7    1       US                  38.0                  -97.0  \n",
       "1015338         12    6       US               36.1473                -86.777  \n",
       "1015339          8    1       US               34.1067              -117.8067  \n",
       "1015340          9    1       US                  38.0                  -97.0  \n",
       "\n",
       "[1015341 rows x 110 columns]"
      ]
     },
     "execution_count": 2,
     "metadata": {},
     "output_type": "execute_result"
    }
   ],
   "source": [
    "df"
   ]
  },
  {
   "cell_type": "code",
   "execution_count": 3,
   "metadata": {},
   "outputs": [],
   "source": [
    "# the 50 columns that represent the personality test questions (found in codebook.txt)\n",
    "columns = df.columns"
   ]
  },
  {
   "cell_type": "code",
   "execution_count": 4,
   "metadata": {},
   "outputs": [
    {
     "name": "stdout",
     "output_type": "stream",
     "text": [
      "EXT1\n",
      "EXT2\n",
      "EXT3\n",
      "EXT4\n",
      "EXT5\n",
      "EXT6\n",
      "EXT7\n",
      "EXT8\n",
      "EXT9\n",
      "EXT10\n",
      "EST1\n",
      "EST2\n",
      "EST3\n",
      "EST4\n",
      "EST5\n",
      "EST6\n",
      "EST7\n",
      "EST8\n",
      "EST9\n",
      "EST10\n",
      "AGR1\n",
      "AGR2\n",
      "AGR3\n",
      "AGR4\n",
      "AGR5\n",
      "AGR6\n",
      "AGR7\n",
      "AGR8\n",
      "AGR9\n",
      "AGR10\n",
      "CSN1\n",
      "CSN2\n",
      "CSN3\n",
      "CSN4\n",
      "CSN5\n",
      "CSN6\n",
      "CSN7\n",
      "CSN8\n",
      "CSN9\n",
      "CSN10\n",
      "OPN1\n",
      "OPN2\n",
      "OPN3\n",
      "OPN4\n",
      "OPN5\n",
      "OPN6\n",
      "OPN7\n",
      "OPN8\n",
      "OPN9\n",
      "OPN10\n",
      "EXT1_E\n",
      "EXT2_E\n",
      "EXT3_E\n",
      "EXT4_E\n",
      "EXT5_E\n",
      "EXT6_E\n",
      "EXT7_E\n",
      "EXT8_E\n",
      "EXT9_E\n",
      "EXT10_E\n",
      "EST1_E\n",
      "EST2_E\n",
      "EST3_E\n",
      "EST4_E\n",
      "EST5_E\n",
      "EST6_E\n",
      "EST7_E\n",
      "EST8_E\n",
      "EST9_E\n",
      "EST10_E\n",
      "AGR1_E\n",
      "AGR2_E\n",
      "AGR3_E\n",
      "AGR4_E\n",
      "AGR5_E\n",
      "AGR6_E\n",
      "AGR7_E\n",
      "AGR8_E\n",
      "AGR9_E\n",
      "AGR10_E\n",
      "CSN1_E\n",
      "CSN2_E\n",
      "CSN3_E\n",
      "CSN4_E\n",
      "CSN5_E\n",
      "CSN6_E\n",
      "CSN7_E\n",
      "CSN8_E\n",
      "CSN9_E\n",
      "CSN10_E\n",
      "OPN1_E\n",
      "OPN2_E\n",
      "OPN3_E\n",
      "OPN4_E\n",
      "OPN5_E\n",
      "OPN6_E\n",
      "OPN7_E\n",
      "OPN8_E\n",
      "OPN9_E\n",
      "OPN10_E\n",
      "dateload\n",
      "screenw\n",
      "screenh\n",
      "introelapse\n",
      "testelapse\n",
      "endelapse\n",
      "IPC\n",
      "country\n",
      "lat_appx_lots_of_err\n",
      "long_appx_lots_of_err\n"
     ]
    }
   ],
   "source": [
    "for column in columns:\n",
    "    print(column)"
   ]
  },
  {
   "cell_type": "code",
   "execution_count": 5,
   "metadata": {},
   "outputs": [],
   "source": [
    "# numpy library import\n",
    "import numpy as np"
   ]
  },
  {
   "cell_type": "code",
   "execution_count": 6,
   "metadata": {},
   "outputs": [],
   "source": [
    "# adjusts the dataframe from 110 columns to 50 (number of rows remains the same)\n",
    "full_dataframe = df[df.columns[0:50]]"
   ]
  },
  {
   "cell_type": "code",
   "execution_count": 7,
   "metadata": {},
   "outputs": [],
   "source": [
    "# displays the new setup of the dataframe's columns\n",
    "pd.set_option('display.max_columns', None)"
   ]
  },
  {
   "cell_type": "code",
   "execution_count": 8,
   "metadata": {
    "scrolled": true
   },
   "outputs": [
    {
     "data": {
      "text/html": [
       "<div>\n",
       "<style scoped>\n",
       "    .dataframe tbody tr th:only-of-type {\n",
       "        vertical-align: middle;\n",
       "    }\n",
       "\n",
       "    .dataframe tbody tr th {\n",
       "        vertical-align: top;\n",
       "    }\n",
       "\n",
       "    .dataframe thead th {\n",
       "        text-align: right;\n",
       "    }\n",
       "</style>\n",
       "<table border=\"1\" class=\"dataframe\">\n",
       "  <thead>\n",
       "    <tr style=\"text-align: right;\">\n",
       "      <th></th>\n",
       "      <th>EXT1</th>\n",
       "      <th>EXT2</th>\n",
       "      <th>EXT3</th>\n",
       "      <th>EXT4</th>\n",
       "      <th>EXT5</th>\n",
       "      <th>EXT6</th>\n",
       "      <th>EXT7</th>\n",
       "      <th>EXT8</th>\n",
       "      <th>EXT9</th>\n",
       "      <th>EXT10</th>\n",
       "      <th>EST1</th>\n",
       "      <th>EST2</th>\n",
       "      <th>EST3</th>\n",
       "      <th>EST4</th>\n",
       "      <th>EST5</th>\n",
       "      <th>EST6</th>\n",
       "      <th>EST7</th>\n",
       "      <th>EST8</th>\n",
       "      <th>EST9</th>\n",
       "      <th>EST10</th>\n",
       "      <th>AGR1</th>\n",
       "      <th>AGR2</th>\n",
       "      <th>AGR3</th>\n",
       "      <th>AGR4</th>\n",
       "      <th>AGR5</th>\n",
       "      <th>AGR6</th>\n",
       "      <th>AGR7</th>\n",
       "      <th>AGR8</th>\n",
       "      <th>AGR9</th>\n",
       "      <th>AGR10</th>\n",
       "      <th>CSN1</th>\n",
       "      <th>CSN2</th>\n",
       "      <th>CSN3</th>\n",
       "      <th>CSN4</th>\n",
       "      <th>CSN5</th>\n",
       "      <th>CSN6</th>\n",
       "      <th>CSN7</th>\n",
       "      <th>CSN8</th>\n",
       "      <th>CSN9</th>\n",
       "      <th>CSN10</th>\n",
       "      <th>OPN1</th>\n",
       "      <th>OPN2</th>\n",
       "      <th>OPN3</th>\n",
       "      <th>OPN4</th>\n",
       "      <th>OPN5</th>\n",
       "      <th>OPN6</th>\n",
       "      <th>OPN7</th>\n",
       "      <th>OPN8</th>\n",
       "      <th>OPN9</th>\n",
       "      <th>OPN10</th>\n",
       "    </tr>\n",
       "  </thead>\n",
       "  <tbody>\n",
       "    <tr>\n",
       "      <th>0</th>\n",
       "      <td>4.0</td>\n",
       "      <td>1.0</td>\n",
       "      <td>5.0</td>\n",
       "      <td>2.0</td>\n",
       "      <td>5.0</td>\n",
       "      <td>1.0</td>\n",
       "      <td>5.0</td>\n",
       "      <td>2.0</td>\n",
       "      <td>4.0</td>\n",
       "      <td>1.0</td>\n",
       "      <td>1.0</td>\n",
       "      <td>4.0</td>\n",
       "      <td>4.0</td>\n",
       "      <td>2.0</td>\n",
       "      <td>2.0</td>\n",
       "      <td>2.0</td>\n",
       "      <td>2.0</td>\n",
       "      <td>2.0</td>\n",
       "      <td>3.0</td>\n",
       "      <td>2.0</td>\n",
       "      <td>2.0</td>\n",
       "      <td>5.0</td>\n",
       "      <td>2.0</td>\n",
       "      <td>4.0</td>\n",
       "      <td>2.0</td>\n",
       "      <td>3.0</td>\n",
       "      <td>2.0</td>\n",
       "      <td>4.0</td>\n",
       "      <td>3.0</td>\n",
       "      <td>4.0</td>\n",
       "      <td>3.0</td>\n",
       "      <td>4.0</td>\n",
       "      <td>3.0</td>\n",
       "      <td>2.0</td>\n",
       "      <td>2.0</td>\n",
       "      <td>4.0</td>\n",
       "      <td>4.0</td>\n",
       "      <td>2.0</td>\n",
       "      <td>4.0</td>\n",
       "      <td>4.0</td>\n",
       "      <td>5.0</td>\n",
       "      <td>1.0</td>\n",
       "      <td>4.0</td>\n",
       "      <td>1.0</td>\n",
       "      <td>4.0</td>\n",
       "      <td>1.0</td>\n",
       "      <td>5.0</td>\n",
       "      <td>3.0</td>\n",
       "      <td>4.0</td>\n",
       "      <td>5.0</td>\n",
       "    </tr>\n",
       "    <tr>\n",
       "      <th>1</th>\n",
       "      <td>3.0</td>\n",
       "      <td>5.0</td>\n",
       "      <td>3.0</td>\n",
       "      <td>4.0</td>\n",
       "      <td>3.0</td>\n",
       "      <td>3.0</td>\n",
       "      <td>2.0</td>\n",
       "      <td>5.0</td>\n",
       "      <td>1.0</td>\n",
       "      <td>5.0</td>\n",
       "      <td>2.0</td>\n",
       "      <td>3.0</td>\n",
       "      <td>4.0</td>\n",
       "      <td>1.0</td>\n",
       "      <td>3.0</td>\n",
       "      <td>1.0</td>\n",
       "      <td>2.0</td>\n",
       "      <td>1.0</td>\n",
       "      <td>3.0</td>\n",
       "      <td>1.0</td>\n",
       "      <td>1.0</td>\n",
       "      <td>4.0</td>\n",
       "      <td>1.0</td>\n",
       "      <td>5.0</td>\n",
       "      <td>1.0</td>\n",
       "      <td>5.0</td>\n",
       "      <td>3.0</td>\n",
       "      <td>4.0</td>\n",
       "      <td>5.0</td>\n",
       "      <td>3.0</td>\n",
       "      <td>3.0</td>\n",
       "      <td>2.0</td>\n",
       "      <td>5.0</td>\n",
       "      <td>3.0</td>\n",
       "      <td>3.0</td>\n",
       "      <td>1.0</td>\n",
       "      <td>3.0</td>\n",
       "      <td>3.0</td>\n",
       "      <td>5.0</td>\n",
       "      <td>3.0</td>\n",
       "      <td>1.0</td>\n",
       "      <td>2.0</td>\n",
       "      <td>4.0</td>\n",
       "      <td>2.0</td>\n",
       "      <td>3.0</td>\n",
       "      <td>1.0</td>\n",
       "      <td>4.0</td>\n",
       "      <td>2.0</td>\n",
       "      <td>5.0</td>\n",
       "      <td>3.0</td>\n",
       "    </tr>\n",
       "    <tr>\n",
       "      <th>2</th>\n",
       "      <td>2.0</td>\n",
       "      <td>3.0</td>\n",
       "      <td>4.0</td>\n",
       "      <td>4.0</td>\n",
       "      <td>3.0</td>\n",
       "      <td>2.0</td>\n",
       "      <td>1.0</td>\n",
       "      <td>3.0</td>\n",
       "      <td>2.0</td>\n",
       "      <td>5.0</td>\n",
       "      <td>4.0</td>\n",
       "      <td>4.0</td>\n",
       "      <td>4.0</td>\n",
       "      <td>2.0</td>\n",
       "      <td>2.0</td>\n",
       "      <td>2.0</td>\n",
       "      <td>2.0</td>\n",
       "      <td>2.0</td>\n",
       "      <td>1.0</td>\n",
       "      <td>3.0</td>\n",
       "      <td>1.0</td>\n",
       "      <td>4.0</td>\n",
       "      <td>1.0</td>\n",
       "      <td>4.0</td>\n",
       "      <td>2.0</td>\n",
       "      <td>4.0</td>\n",
       "      <td>1.0</td>\n",
       "      <td>4.0</td>\n",
       "      <td>4.0</td>\n",
       "      <td>3.0</td>\n",
       "      <td>4.0</td>\n",
       "      <td>2.0</td>\n",
       "      <td>2.0</td>\n",
       "      <td>2.0</td>\n",
       "      <td>3.0</td>\n",
       "      <td>3.0</td>\n",
       "      <td>4.0</td>\n",
       "      <td>2.0</td>\n",
       "      <td>4.0</td>\n",
       "      <td>2.0</td>\n",
       "      <td>5.0</td>\n",
       "      <td>1.0</td>\n",
       "      <td>2.0</td>\n",
       "      <td>1.0</td>\n",
       "      <td>4.0</td>\n",
       "      <td>2.0</td>\n",
       "      <td>5.0</td>\n",
       "      <td>3.0</td>\n",
       "      <td>4.0</td>\n",
       "      <td>4.0</td>\n",
       "    </tr>\n",
       "    <tr>\n",
       "      <th>3</th>\n",
       "      <td>2.0</td>\n",
       "      <td>2.0</td>\n",
       "      <td>2.0</td>\n",
       "      <td>3.0</td>\n",
       "      <td>4.0</td>\n",
       "      <td>2.0</td>\n",
       "      <td>2.0</td>\n",
       "      <td>4.0</td>\n",
       "      <td>1.0</td>\n",
       "      <td>4.0</td>\n",
       "      <td>3.0</td>\n",
       "      <td>3.0</td>\n",
       "      <td>3.0</td>\n",
       "      <td>2.0</td>\n",
       "      <td>3.0</td>\n",
       "      <td>2.0</td>\n",
       "      <td>2.0</td>\n",
       "      <td>2.0</td>\n",
       "      <td>4.0</td>\n",
       "      <td>3.0</td>\n",
       "      <td>2.0</td>\n",
       "      <td>4.0</td>\n",
       "      <td>3.0</td>\n",
       "      <td>4.0</td>\n",
       "      <td>2.0</td>\n",
       "      <td>4.0</td>\n",
       "      <td>2.0</td>\n",
       "      <td>4.0</td>\n",
       "      <td>3.0</td>\n",
       "      <td>4.0</td>\n",
       "      <td>2.0</td>\n",
       "      <td>4.0</td>\n",
       "      <td>4.0</td>\n",
       "      <td>4.0</td>\n",
       "      <td>1.0</td>\n",
       "      <td>2.0</td>\n",
       "      <td>2.0</td>\n",
       "      <td>3.0</td>\n",
       "      <td>1.0</td>\n",
       "      <td>4.0</td>\n",
       "      <td>4.0</td>\n",
       "      <td>2.0</td>\n",
       "      <td>5.0</td>\n",
       "      <td>2.0</td>\n",
       "      <td>3.0</td>\n",
       "      <td>1.0</td>\n",
       "      <td>4.0</td>\n",
       "      <td>4.0</td>\n",
       "      <td>3.0</td>\n",
       "      <td>3.0</td>\n",
       "    </tr>\n",
       "    <tr>\n",
       "      <th>4</th>\n",
       "      <td>3.0</td>\n",
       "      <td>3.0</td>\n",
       "      <td>3.0</td>\n",
       "      <td>3.0</td>\n",
       "      <td>5.0</td>\n",
       "      <td>3.0</td>\n",
       "      <td>3.0</td>\n",
       "      <td>5.0</td>\n",
       "      <td>3.0</td>\n",
       "      <td>4.0</td>\n",
       "      <td>1.0</td>\n",
       "      <td>5.0</td>\n",
       "      <td>5.0</td>\n",
       "      <td>3.0</td>\n",
       "      <td>1.0</td>\n",
       "      <td>1.0</td>\n",
       "      <td>1.0</td>\n",
       "      <td>1.0</td>\n",
       "      <td>3.0</td>\n",
       "      <td>2.0</td>\n",
       "      <td>1.0</td>\n",
       "      <td>5.0</td>\n",
       "      <td>1.0</td>\n",
       "      <td>5.0</td>\n",
       "      <td>1.0</td>\n",
       "      <td>3.0</td>\n",
       "      <td>1.0</td>\n",
       "      <td>5.0</td>\n",
       "      <td>5.0</td>\n",
       "      <td>3.0</td>\n",
       "      <td>5.0</td>\n",
       "      <td>1.0</td>\n",
       "      <td>5.0</td>\n",
       "      <td>1.0</td>\n",
       "      <td>3.0</td>\n",
       "      <td>1.0</td>\n",
       "      <td>5.0</td>\n",
       "      <td>1.0</td>\n",
       "      <td>5.0</td>\n",
       "      <td>5.0</td>\n",
       "      <td>5.0</td>\n",
       "      <td>1.0</td>\n",
       "      <td>5.0</td>\n",
       "      <td>1.0</td>\n",
       "      <td>5.0</td>\n",
       "      <td>1.0</td>\n",
       "      <td>5.0</td>\n",
       "      <td>3.0</td>\n",
       "      <td>5.0</td>\n",
       "      <td>5.0</td>\n",
       "    </tr>\n",
       "    <tr>\n",
       "      <th>...</th>\n",
       "      <td>...</td>\n",
       "      <td>...</td>\n",
       "      <td>...</td>\n",
       "      <td>...</td>\n",
       "      <td>...</td>\n",
       "      <td>...</td>\n",
       "      <td>...</td>\n",
       "      <td>...</td>\n",
       "      <td>...</td>\n",
       "      <td>...</td>\n",
       "      <td>...</td>\n",
       "      <td>...</td>\n",
       "      <td>...</td>\n",
       "      <td>...</td>\n",
       "      <td>...</td>\n",
       "      <td>...</td>\n",
       "      <td>...</td>\n",
       "      <td>...</td>\n",
       "      <td>...</td>\n",
       "      <td>...</td>\n",
       "      <td>...</td>\n",
       "      <td>...</td>\n",
       "      <td>...</td>\n",
       "      <td>...</td>\n",
       "      <td>...</td>\n",
       "      <td>...</td>\n",
       "      <td>...</td>\n",
       "      <td>...</td>\n",
       "      <td>...</td>\n",
       "      <td>...</td>\n",
       "      <td>...</td>\n",
       "      <td>...</td>\n",
       "      <td>...</td>\n",
       "      <td>...</td>\n",
       "      <td>...</td>\n",
       "      <td>...</td>\n",
       "      <td>...</td>\n",
       "      <td>...</td>\n",
       "      <td>...</td>\n",
       "      <td>...</td>\n",
       "      <td>...</td>\n",
       "      <td>...</td>\n",
       "      <td>...</td>\n",
       "      <td>...</td>\n",
       "      <td>...</td>\n",
       "      <td>...</td>\n",
       "      <td>...</td>\n",
       "      <td>...</td>\n",
       "      <td>...</td>\n",
       "      <td>...</td>\n",
       "    </tr>\n",
       "    <tr>\n",
       "      <th>1015336</th>\n",
       "      <td>4.0</td>\n",
       "      <td>2.0</td>\n",
       "      <td>4.0</td>\n",
       "      <td>3.0</td>\n",
       "      <td>4.0</td>\n",
       "      <td>3.0</td>\n",
       "      <td>3.0</td>\n",
       "      <td>3.0</td>\n",
       "      <td>3.0</td>\n",
       "      <td>3.0</td>\n",
       "      <td>4.0</td>\n",
       "      <td>3.0</td>\n",
       "      <td>3.0</td>\n",
       "      <td>3.0</td>\n",
       "      <td>4.0</td>\n",
       "      <td>3.0</td>\n",
       "      <td>4.0</td>\n",
       "      <td>3.0</td>\n",
       "      <td>3.0</td>\n",
       "      <td>3.0</td>\n",
       "      <td>5.0</td>\n",
       "      <td>4.0</td>\n",
       "      <td>2.0</td>\n",
       "      <td>5.0</td>\n",
       "      <td>2.0</td>\n",
       "      <td>4.0</td>\n",
       "      <td>2.0</td>\n",
       "      <td>4.0</td>\n",
       "      <td>4.0</td>\n",
       "      <td>4.0</td>\n",
       "      <td>2.0</td>\n",
       "      <td>3.0</td>\n",
       "      <td>3.0</td>\n",
       "      <td>3.0</td>\n",
       "      <td>4.0</td>\n",
       "      <td>4.0</td>\n",
       "      <td>4.0</td>\n",
       "      <td>2.0</td>\n",
       "      <td>3.0</td>\n",
       "      <td>3.0</td>\n",
       "      <td>2.0</td>\n",
       "      <td>2.0</td>\n",
       "      <td>4.0</td>\n",
       "      <td>3.0</td>\n",
       "      <td>4.0</td>\n",
       "      <td>2.0</td>\n",
       "      <td>4.0</td>\n",
       "      <td>2.0</td>\n",
       "      <td>2.0</td>\n",
       "      <td>4.0</td>\n",
       "    </tr>\n",
       "    <tr>\n",
       "      <th>1015337</th>\n",
       "      <td>4.0</td>\n",
       "      <td>3.0</td>\n",
       "      <td>4.0</td>\n",
       "      <td>3.0</td>\n",
       "      <td>3.0</td>\n",
       "      <td>3.0</td>\n",
       "      <td>4.0</td>\n",
       "      <td>4.0</td>\n",
       "      <td>3.0</td>\n",
       "      <td>3.0</td>\n",
       "      <td>4.0</td>\n",
       "      <td>3.0</td>\n",
       "      <td>5.0</td>\n",
       "      <td>1.0</td>\n",
       "      <td>5.0</td>\n",
       "      <td>5.0</td>\n",
       "      <td>4.0</td>\n",
       "      <td>4.0</td>\n",
       "      <td>4.0</td>\n",
       "      <td>5.0</td>\n",
       "      <td>2.0</td>\n",
       "      <td>4.0</td>\n",
       "      <td>1.0</td>\n",
       "      <td>4.0</td>\n",
       "      <td>3.0</td>\n",
       "      <td>5.0</td>\n",
       "      <td>3.0</td>\n",
       "      <td>3.0</td>\n",
       "      <td>5.0</td>\n",
       "      <td>3.0</td>\n",
       "      <td>3.0</td>\n",
       "      <td>2.0</td>\n",
       "      <td>3.0</td>\n",
       "      <td>4.0</td>\n",
       "      <td>3.0</td>\n",
       "      <td>3.0</td>\n",
       "      <td>2.0</td>\n",
       "      <td>3.0</td>\n",
       "      <td>2.0</td>\n",
       "      <td>3.0</td>\n",
       "      <td>4.0</td>\n",
       "      <td>1.0</td>\n",
       "      <td>5.0</td>\n",
       "      <td>1.0</td>\n",
       "      <td>5.0</td>\n",
       "      <td>1.0</td>\n",
       "      <td>3.0</td>\n",
       "      <td>4.0</td>\n",
       "      <td>5.0</td>\n",
       "      <td>4.0</td>\n",
       "    </tr>\n",
       "    <tr>\n",
       "      <th>1015338</th>\n",
       "      <td>4.0</td>\n",
       "      <td>2.0</td>\n",
       "      <td>4.0</td>\n",
       "      <td>3.0</td>\n",
       "      <td>5.0</td>\n",
       "      <td>1.0</td>\n",
       "      <td>4.0</td>\n",
       "      <td>2.0</td>\n",
       "      <td>4.0</td>\n",
       "      <td>4.0</td>\n",
       "      <td>3.0</td>\n",
       "      <td>2.0</td>\n",
       "      <td>4.0</td>\n",
       "      <td>3.0</td>\n",
       "      <td>2.0</td>\n",
       "      <td>2.0</td>\n",
       "      <td>4.0</td>\n",
       "      <td>2.0</td>\n",
       "      <td>4.0</td>\n",
       "      <td>1.0</td>\n",
       "      <td>3.0</td>\n",
       "      <td>5.0</td>\n",
       "      <td>5.0</td>\n",
       "      <td>3.0</td>\n",
       "      <td>2.0</td>\n",
       "      <td>3.0</td>\n",
       "      <td>2.0</td>\n",
       "      <td>4.0</td>\n",
       "      <td>3.0</td>\n",
       "      <td>5.0</td>\n",
       "      <td>4.0</td>\n",
       "      <td>5.0</td>\n",
       "      <td>3.0</td>\n",
       "      <td>5.0</td>\n",
       "      <td>1.0</td>\n",
       "      <td>5.0</td>\n",
       "      <td>1.0</td>\n",
       "      <td>4.0</td>\n",
       "      <td>1.0</td>\n",
       "      <td>4.0</td>\n",
       "      <td>5.0</td>\n",
       "      <td>1.0</td>\n",
       "      <td>5.0</td>\n",
       "      <td>1.0</td>\n",
       "      <td>4.0</td>\n",
       "      <td>1.0</td>\n",
       "      <td>5.0</td>\n",
       "      <td>5.0</td>\n",
       "      <td>4.0</td>\n",
       "      <td>5.0</td>\n",
       "    </tr>\n",
       "    <tr>\n",
       "      <th>1015339</th>\n",
       "      <td>2.0</td>\n",
       "      <td>4.0</td>\n",
       "      <td>3.0</td>\n",
       "      <td>4.0</td>\n",
       "      <td>2.0</td>\n",
       "      <td>2.0</td>\n",
       "      <td>1.0</td>\n",
       "      <td>4.0</td>\n",
       "      <td>2.0</td>\n",
       "      <td>4.0</td>\n",
       "      <td>4.0</td>\n",
       "      <td>3.0</td>\n",
       "      <td>4.0</td>\n",
       "      <td>2.0</td>\n",
       "      <td>4.0</td>\n",
       "      <td>4.0</td>\n",
       "      <td>2.0</td>\n",
       "      <td>2.0</td>\n",
       "      <td>4.0</td>\n",
       "      <td>4.0</td>\n",
       "      <td>2.0</td>\n",
       "      <td>3.0</td>\n",
       "      <td>2.0</td>\n",
       "      <td>4.0</td>\n",
       "      <td>3.0</td>\n",
       "      <td>4.0</td>\n",
       "      <td>2.0</td>\n",
       "      <td>4.0</td>\n",
       "      <td>4.0</td>\n",
       "      <td>3.0</td>\n",
       "      <td>4.0</td>\n",
       "      <td>2.0</td>\n",
       "      <td>4.0</td>\n",
       "      <td>2.0</td>\n",
       "      <td>2.0</td>\n",
       "      <td>2.0</td>\n",
       "      <td>4.0</td>\n",
       "      <td>2.0</td>\n",
       "      <td>4.0</td>\n",
       "      <td>4.0</td>\n",
       "      <td>5.0</td>\n",
       "      <td>2.0</td>\n",
       "      <td>4.0</td>\n",
       "      <td>2.0</td>\n",
       "      <td>3.0</td>\n",
       "      <td>2.0</td>\n",
       "      <td>4.0</td>\n",
       "      <td>5.0</td>\n",
       "      <td>5.0</td>\n",
       "      <td>3.0</td>\n",
       "    </tr>\n",
       "    <tr>\n",
       "      <th>1015340</th>\n",
       "      <td>4.0</td>\n",
       "      <td>2.0</td>\n",
       "      <td>4.0</td>\n",
       "      <td>2.0</td>\n",
       "      <td>4.0</td>\n",
       "      <td>1.0</td>\n",
       "      <td>4.0</td>\n",
       "      <td>2.0</td>\n",
       "      <td>4.0</td>\n",
       "      <td>4.0</td>\n",
       "      <td>4.0</td>\n",
       "      <td>3.0</td>\n",
       "      <td>4.0</td>\n",
       "      <td>3.0</td>\n",
       "      <td>2.0</td>\n",
       "      <td>3.0</td>\n",
       "      <td>3.0</td>\n",
       "      <td>1.0</td>\n",
       "      <td>4.0</td>\n",
       "      <td>2.0</td>\n",
       "      <td>1.0</td>\n",
       "      <td>5.0</td>\n",
       "      <td>2.0</td>\n",
       "      <td>4.0</td>\n",
       "      <td>3.0</td>\n",
       "      <td>5.0</td>\n",
       "      <td>2.0</td>\n",
       "      <td>3.0</td>\n",
       "      <td>4.0</td>\n",
       "      <td>5.0</td>\n",
       "      <td>3.0</td>\n",
       "      <td>4.0</td>\n",
       "      <td>3.0</td>\n",
       "      <td>3.0</td>\n",
       "      <td>2.0</td>\n",
       "      <td>3.0</td>\n",
       "      <td>3.0</td>\n",
       "      <td>2.0</td>\n",
       "      <td>2.0</td>\n",
       "      <td>3.0</td>\n",
       "      <td>5.0</td>\n",
       "      <td>1.0</td>\n",
       "      <td>5.0</td>\n",
       "      <td>1.0</td>\n",
       "      <td>3.0</td>\n",
       "      <td>1.0</td>\n",
       "      <td>5.0</td>\n",
       "      <td>4.0</td>\n",
       "      <td>5.0</td>\n",
       "      <td>5.0</td>\n",
       "    </tr>\n",
       "  </tbody>\n",
       "</table>\n",
       "<p>1015341 rows × 50 columns</p>\n",
       "</div>"
      ],
      "text/plain": [
       "         EXT1  EXT2  EXT3  EXT4  EXT5  EXT6  EXT7  EXT8  EXT9  EXT10  EST1  \\\n",
       "0         4.0   1.0   5.0   2.0   5.0   1.0   5.0   2.0   4.0    1.0   1.0   \n",
       "1         3.0   5.0   3.0   4.0   3.0   3.0   2.0   5.0   1.0    5.0   2.0   \n",
       "2         2.0   3.0   4.0   4.0   3.0   2.0   1.0   3.0   2.0    5.0   4.0   \n",
       "3         2.0   2.0   2.0   3.0   4.0   2.0   2.0   4.0   1.0    4.0   3.0   \n",
       "4         3.0   3.0   3.0   3.0   5.0   3.0   3.0   5.0   3.0    4.0   1.0   \n",
       "...       ...   ...   ...   ...   ...   ...   ...   ...   ...    ...   ...   \n",
       "1015336   4.0   2.0   4.0   3.0   4.0   3.0   3.0   3.0   3.0    3.0   4.0   \n",
       "1015337   4.0   3.0   4.0   3.0   3.0   3.0   4.0   4.0   3.0    3.0   4.0   \n",
       "1015338   4.0   2.0   4.0   3.0   5.0   1.0   4.0   2.0   4.0    4.0   3.0   \n",
       "1015339   2.0   4.0   3.0   4.0   2.0   2.0   1.0   4.0   2.0    4.0   4.0   \n",
       "1015340   4.0   2.0   4.0   2.0   4.0   1.0   4.0   2.0   4.0    4.0   4.0   \n",
       "\n",
       "         EST2  EST3  EST4  EST5  EST6  EST7  EST8  EST9  EST10  AGR1  AGR2  \\\n",
       "0         4.0   4.0   2.0   2.0   2.0   2.0   2.0   3.0    2.0   2.0   5.0   \n",
       "1         3.0   4.0   1.0   3.0   1.0   2.0   1.0   3.0    1.0   1.0   4.0   \n",
       "2         4.0   4.0   2.0   2.0   2.0   2.0   2.0   1.0    3.0   1.0   4.0   \n",
       "3         3.0   3.0   2.0   3.0   2.0   2.0   2.0   4.0    3.0   2.0   4.0   \n",
       "4         5.0   5.0   3.0   1.0   1.0   1.0   1.0   3.0    2.0   1.0   5.0   \n",
       "...       ...   ...   ...   ...   ...   ...   ...   ...    ...   ...   ...   \n",
       "1015336   3.0   3.0   3.0   4.0   3.0   4.0   3.0   3.0    3.0   5.0   4.0   \n",
       "1015337   3.0   5.0   1.0   5.0   5.0   4.0   4.0   4.0    5.0   2.0   4.0   \n",
       "1015338   2.0   4.0   3.0   2.0   2.0   4.0   2.0   4.0    1.0   3.0   5.0   \n",
       "1015339   3.0   4.0   2.0   4.0   4.0   2.0   2.0   4.0    4.0   2.0   3.0   \n",
       "1015340   3.0   4.0   3.0   2.0   3.0   3.0   1.0   4.0    2.0   1.0   5.0   \n",
       "\n",
       "         AGR3  AGR4  AGR5  AGR6  AGR7  AGR8  AGR9  AGR10  CSN1  CSN2  CSN3  \\\n",
       "0         2.0   4.0   2.0   3.0   2.0   4.0   3.0    4.0   3.0   4.0   3.0   \n",
       "1         1.0   5.0   1.0   5.0   3.0   4.0   5.0    3.0   3.0   2.0   5.0   \n",
       "2         1.0   4.0   2.0   4.0   1.0   4.0   4.0    3.0   4.0   2.0   2.0   \n",
       "3         3.0   4.0   2.0   4.0   2.0   4.0   3.0    4.0   2.0   4.0   4.0   \n",
       "4         1.0   5.0   1.0   3.0   1.0   5.0   5.0    3.0   5.0   1.0   5.0   \n",
       "...       ...   ...   ...   ...   ...   ...   ...    ...   ...   ...   ...   \n",
       "1015336   2.0   5.0   2.0   4.0   2.0   4.0   4.0    4.0   2.0   3.0   3.0   \n",
       "1015337   1.0   4.0   3.0   5.0   3.0   3.0   5.0    3.0   3.0   2.0   3.0   \n",
       "1015338   5.0   3.0   2.0   3.0   2.0   4.0   3.0    5.0   4.0   5.0   3.0   \n",
       "1015339   2.0   4.0   3.0   4.0   2.0   4.0   4.0    3.0   4.0   2.0   4.0   \n",
       "1015340   2.0   4.0   3.0   5.0   2.0   3.0   4.0    5.0   3.0   4.0   3.0   \n",
       "\n",
       "         CSN4  CSN5  CSN6  CSN7  CSN8  CSN9  CSN10  OPN1  OPN2  OPN3  OPN4  \\\n",
       "0         2.0   2.0   4.0   4.0   2.0   4.0    4.0   5.0   1.0   4.0   1.0   \n",
       "1         3.0   3.0   1.0   3.0   3.0   5.0    3.0   1.0   2.0   4.0   2.0   \n",
       "2         2.0   3.0   3.0   4.0   2.0   4.0    2.0   5.0   1.0   2.0   1.0   \n",
       "3         4.0   1.0   2.0   2.0   3.0   1.0    4.0   4.0   2.0   5.0   2.0   \n",
       "4         1.0   3.0   1.0   5.0   1.0   5.0    5.0   5.0   1.0   5.0   1.0   \n",
       "...       ...   ...   ...   ...   ...   ...    ...   ...   ...   ...   ...   \n",
       "1015336   3.0   4.0   4.0   4.0   2.0   3.0    3.0   2.0   2.0   4.0   3.0   \n",
       "1015337   4.0   3.0   3.0   2.0   3.0   2.0    3.0   4.0   1.0   5.0   1.0   \n",
       "1015338   5.0   1.0   5.0   1.0   4.0   1.0    4.0   5.0   1.0   5.0   1.0   \n",
       "1015339   2.0   2.0   2.0   4.0   2.0   4.0    4.0   5.0   2.0   4.0   2.0   \n",
       "1015340   3.0   2.0   3.0   3.0   2.0   2.0    3.0   5.0   1.0   5.0   1.0   \n",
       "\n",
       "         OPN5  OPN6  OPN7  OPN8  OPN9  OPN10  \n",
       "0         4.0   1.0   5.0   3.0   4.0    5.0  \n",
       "1         3.0   1.0   4.0   2.0   5.0    3.0  \n",
       "2         4.0   2.0   5.0   3.0   4.0    4.0  \n",
       "3         3.0   1.0   4.0   4.0   3.0    3.0  \n",
       "4         5.0   1.0   5.0   3.0   5.0    5.0  \n",
       "...       ...   ...   ...   ...   ...    ...  \n",
       "1015336   4.0   2.0   4.0   2.0   2.0    4.0  \n",
       "1015337   5.0   1.0   3.0   4.0   5.0    4.0  \n",
       "1015338   4.0   1.0   5.0   5.0   4.0    5.0  \n",
       "1015339   3.0   2.0   4.0   5.0   5.0    3.0  \n",
       "1015340   3.0   1.0   5.0   4.0   5.0    5.0  \n",
       "\n",
       "[1015341 rows x 50 columns]"
      ]
     },
     "execution_count": 8,
     "metadata": {},
     "output_type": "execute_result"
    }
   ],
   "source": [
    "# outputs the complete dataframe\n",
    "full_dataframe"
   ]
  },
  {
   "cell_type": "code",
   "execution_count": 9,
   "metadata": {},
   "outputs": [],
   "source": [
    "# fills in any empty values in the dataframe's columns with a zero\n",
    "full_dataframe = full_dataframe.fillna(0)"
   ]
  },
  {
   "cell_type": "code",
   "execution_count": 10,
   "metadata": {},
   "outputs": [],
   "source": [
    "# the mini batch k-means algorithm (fro a scalar library)\n",
    "from sklearn.cluster import MiniBatchKMeans"
   ]
  },
  {
   "cell_type": "code",
   "execution_count": 12,
   "metadata": {},
   "outputs": [],
   "source": [
    "# kmeans parameters\n",
    "# n_clusters = number of personality types (10)\n",
    "# batch_size = number of data rows fed into the kmeans algorithm/per iteration \n",
    "# (10,000 total batches out of 1,000,000 total rows)\n",
    "# max_iter = iterates through all the batches 100 times\n",
    "\n",
    "kmeans = MiniBatchKMeans(n_clusters = 10, random_state = 0, batch_size = 100, max_iter = 100).fit(full_dataframe)"
   ]
  },
  {
   "cell_type": "code",
   "execution_count": 13,
   "metadata": {},
   "outputs": [
    {
     "data": {
      "text/plain": [
       "10"
      ]
     },
     "execution_count": 13,
     "metadata": {},
     "output_type": "execute_result"
    }
   ],
   "source": [
    "# double checking that the total number of clusters matches our kmeans parameter\n",
    "len(kmeans.cluster_centers_)"
   ]
  },
  {
   "cell_type": "code",
   "execution_count": 14,
   "metadata": {},
   "outputs": [],
   "source": [
    "# implementing KMeans Clustering on the 10 clusters"
   ]
  },
  {
   "cell_type": "code",
   "execution_count": 15,
   "metadata": {},
   "outputs": [],
   "source": [
    "cluster_one = kmeans.cluster_centers_[0]"
   ]
  },
  {
   "cell_type": "code",
   "execution_count": 16,
   "metadata": {},
   "outputs": [],
   "source": [
    "cluster_two = kmeans.cluster_centers_[1]"
   ]
  },
  {
   "cell_type": "code",
   "execution_count": 17,
   "metadata": {},
   "outputs": [],
   "source": [
    "cluster_three = kmeans.cluster_centers_[2]"
   ]
  },
  {
   "cell_type": "code",
   "execution_count": 18,
   "metadata": {},
   "outputs": [],
   "source": [
    "cluster_four = kmeans.cluster_centers_[3]"
   ]
  },
  {
   "cell_type": "code",
   "execution_count": 19,
   "metadata": {},
   "outputs": [],
   "source": [
    "cluster_five = kmeans.cluster_centers_[4]"
   ]
  },
  {
   "cell_type": "code",
   "execution_count": 20,
   "metadata": {},
   "outputs": [],
   "source": [
    "cluster_six = kmeans.cluster_centers_[5]"
   ]
  },
  {
   "cell_type": "code",
   "execution_count": 21,
   "metadata": {},
   "outputs": [],
   "source": [
    "cluster_seven = kmeans.cluster_centers_[6]"
   ]
  },
  {
   "cell_type": "code",
   "execution_count": 22,
   "metadata": {},
   "outputs": [],
   "source": [
    "cluster_eight = kmeans.cluster_centers_[7]"
   ]
  },
  {
   "cell_type": "code",
   "execution_count": 23,
   "metadata": {},
   "outputs": [],
   "source": [
    "cluster_nine = kmeans.cluster_centers_[8]"
   ]
  },
  {
   "cell_type": "code",
   "execution_count": 24,
   "metadata": {},
   "outputs": [],
   "source": [
    "cluster_ten = kmeans.cluster_centers_[9]"
   ]
  },
  {
   "cell_type": "code",
   "execution_count": 25,
   "metadata": {},
   "outputs": [],
   "source": [
    "# outputs the KMeans Clustering on the 10 clusters, each array will represent that\n",
    "# cluster's Personality Type typical answer score for all 50 questions"
   ]
  },
  {
   "cell_type": "code",
   "execution_count": 26,
   "metadata": {},
   "outputs": [
    {
     "data": {
      "text/plain": [
       "array([3.51875306, 1.8936703 , 4.45234737, 2.11922512, 4.35885553,\n",
       "       1.56325379, 3.98647132, 2.76422671, 3.81405256, 2.3716646 ,\n",
       "       2.05604329, 3.97875709, 2.92127457, 3.4824271 , 1.8897844 ,\n",
       "       1.67228923, 1.87329092, 1.47554762, 1.86143174, 1.5434501 ,\n",
       "       1.79666676, 4.49912207, 1.70769408, 4.29999136, 1.7910538 ,\n",
       "       3.85187531, 1.50729685, 4.16565441, 4.14265565, 4.31282922,\n",
       "       3.87432716, 2.42716099, 4.31288679, 1.68691172, 3.30911603,\n",
       "       2.07210501, 3.97875709, 1.76252842, 3.69278374, 4.00077718,\n",
       "       4.0497395 , 1.58055324, 4.18154342, 1.64966466, 4.2821738 ,\n",
       "       1.53360583, 4.44892202, 3.33657638, 4.18433551, 4.42462796])"
      ]
     },
     "execution_count": 26,
     "metadata": {},
     "output_type": "execute_result"
    }
   ],
   "source": [
    "cluster_one"
   ]
  },
  {
   "cell_type": "code",
   "execution_count": 27,
   "metadata": {},
   "outputs": [
    {
     "data": {
      "text/plain": [
       "array([1.48116676, 4.02453419, 2.02357631, 4.39140376, 1.97410623,\n",
       "       3.29533727, 1.44507617, 4.41009795, 1.77628774, 4.68572135,\n",
       "       4.16827859, 2.48407132, 4.53635324, 1.91178197, 3.32849241,\n",
       "       3.57843834, 3.6944659 , 3.41596885, 3.72026697, 3.97790687,\n",
       "       2.10348237, 3.41139573, 2.25572413, 4.05493928, 2.36856904,\n",
       "       3.94787257, 2.58226988, 3.53233631, 3.83889009, 3.06244786,\n",
       "       2.97222136, 3.2692272 , 4.01968297, 3.27590149, 2.1016284 ,\n",
       "       3.30352563, 3.66257763, 2.86092142, 2.84117665, 3.48635788,\n",
       "       3.88962704, 1.94685289, 4.33640268, 1.75360751, 3.6229954 ,\n",
       "       1.73877576, 3.92559404, 3.48592529, 4.51741186, 4.01288508])"
      ]
     },
     "execution_count": 27,
     "metadata": {},
     "output_type": "execute_result"
    }
   ],
   "source": [
    "cluster_two"
   ]
  },
  {
   "cell_type": "code",
   "execution_count": 28,
   "metadata": {},
   "outputs": [
    {
     "data": {
      "text/plain": [
       "array([0.83021807, 0.65420561, 0.54672897, 0.38369678, 0.2933541 ,\n",
       "       0.17705088, 0.13862928, 0.13032191, 0.14485981, 0.16770509,\n",
       "       0.75233645, 0.5529595 , 0.5046729 , 0.30218069, 0.21079958,\n",
       "       0.13136033, 0.11007269, 0.12201454, 0.14537902, 0.16303219,\n",
       "       0.73727934, 0.72533749, 0.38110073, 0.41277259, 0.22897196,\n",
       "       0.19418484, 0.11370717, 0.13291796, 0.15160955, 0.14330218,\n",
       "       0.79023884, 0.56074766, 0.54932503, 0.30477674, 0.20560748,\n",
       "       0.13603323, 0.12253375, 0.11682243, 0.14953271, 0.192108  ,\n",
       "       0.69574247, 0.4854621 , 0.45482866, 0.26012461, 0.21858775,\n",
       "       0.12045691, 0.13343718, 0.13239875, 0.15212876, 0.24091381])"
      ]
     },
     "execution_count": 28,
     "metadata": {},
     "output_type": "execute_result"
    }
   ],
   "source": [
    "cluster_three"
   ]
  },
  {
   "cell_type": "code",
   "execution_count": 29,
   "metadata": {},
   "outputs": [
    {
     "data": {
      "text/plain": [
       "array([3.43633717, 2.11564992, 3.9493735 , 2.44801291, 3.9587394 ,\n",
       "       2.10783445, 3.60868877, 2.87245285, 3.52101   , 2.86666245,\n",
       "       3.29787369, 3.15105683, 3.80904316, 2.76585242, 2.92190862,\n",
       "       2.85229718, 3.02680041, 2.5958423 , 3.20155676, 2.31980129,\n",
       "       2.69443741, 3.94598785, 2.29866473, 3.79002658, 2.35115808,\n",
       "       3.61808632, 2.09002025, 3.67542083, 3.71190356, 3.71291609,\n",
       "       3.70665106, 2.23867232, 3.99601316, 2.11239084, 3.31252373,\n",
       "       2.13643843, 3.96070118, 2.26604227, 3.77183268, 3.6715922 ,\n",
       "       3.13488799, 2.58508417, 3.51227693, 2.54888622, 3.67886976,\n",
       "       2.25405012, 3.78803316, 2.65191115, 3.64140615, 3.70456271])"
      ]
     },
     "execution_count": 29,
     "metadata": {},
     "output_type": "execute_result"
    }
   ],
   "source": [
    "cluster_four"
   ]
  },
  {
   "cell_type": "code",
   "execution_count": 30,
   "metadata": {},
   "outputs": [
    {
     "data": {
      "text/plain": [
       "array([2.13030631, 3.22436219, 3.22019365, 3.61747091, 3.10785426,\n",
       "       2.46803683, 2.26657521, 4.01807245, 2.36403451, 4.08585072,\n",
       "       3.33907606, 3.17605467, 4.10273593, 2.67883809, 2.60628446,\n",
       "       2.54937604, 2.62427776, 2.15608263, 2.73374139, 2.51447115,\n",
       "       1.64818088, 4.10112656, 1.57660344, 4.46938237, 1.82333852,\n",
       "       4.19140965, 1.82779727, 4.10094188, 4.29082131, 3.86001108,\n",
       "       3.93755112, 2.17613382, 4.41846292, 1.86330897, 3.31287761,\n",
       "       1.94955544, 4.2356014 , 1.84220246, 3.88562911, 4.02071076,\n",
       "       3.86151492, 1.83993351, 4.10885682, 1.80370947, 3.92955703,\n",
       "       1.71614384, 4.18753133, 3.23488906, 4.42307997, 4.05456033])"
      ]
     },
     "execution_count": 30,
     "metadata": {},
     "output_type": "execute_result"
    }
   ],
   "source": [
    "cluster_five"
   ]
  },
  {
   "cell_type": "code",
   "execution_count": 31,
   "metadata": {},
   "outputs": [
    {
     "data": {
      "text/plain": [
       "array([2.88937956, 2.32378089, 3.22794325, 3.09001221, 3.6427699 ,\n",
       "       2.02680948, 3.02173573, 3.28196937, 3.25666322, 3.68110495,\n",
       "       4.43693821, 2.35372232, 4.68743149, 2.06414232, 3.71812459,\n",
       "       4.14369382, 4.30267155, 4.10072348, 4.14447681, 3.94378152,\n",
       "       1.8712769 , 4.25472141, 2.53922766, 4.46932256, 1.81900467,\n",
       "       4.32578534, 1.84127282, 4.04510007, 4.42704125, 3.79767609,\n",
       "       3.09781077, 3.46988631, 4.1105578 , 3.37880923, 2.31404053,\n",
       "       3.4165179 , 3.77741238, 2.8217921 , 3.15872718, 3.65254158,\n",
       "       3.91427856, 2.06213787, 4.44708572, 1.83256601, 3.96573648,\n",
       "       1.65523505, 4.00538695, 3.56929437, 4.51758589, 4.28572771])"
      ]
     },
     "execution_count": 31,
     "metadata": {},
     "output_type": "execute_result"
    }
   ],
   "source": [
    "cluster_six"
   ]
  },
  {
   "cell_type": "code",
   "execution_count": 32,
   "metadata": {},
   "outputs": [
    {
     "data": {
      "text/plain": [
       "array([3.59374497, 1.76441715, 4.12931173, 2.261869  , 4.19829945,\n",
       "       1.68563918, 3.9018293 , 2.6257175 , 3.8923341 , 2.64857036,\n",
       "       3.18893836, 3.43109275, 3.84056649, 2.67603669, 2.82243442,\n",
       "       2.75181053, 3.16780216, 2.68853602, 2.93769111, 2.56008261,\n",
       "       1.83265383, 4.49120219, 2.35628453, 4.35464836, 1.77149831,\n",
       "       4.05109704, 1.59189421, 4.04034118, 4.23609248, 4.04782469,\n",
       "       2.74191299, 3.9467035 , 3.65672442, 3.19580495, 1.98487206,\n",
       "       3.80038625, 3.13432756, 2.76428303, 2.65790462, 3.34252454,\n",
       "       3.8028271 , 1.90464567, 4.29266134, 1.78954992, 4.01461831,\n",
       "       1.64409098, 4.0398852 , 3.35620407, 4.15262057, 4.27911593])"
      ]
     },
     "execution_count": 32,
     "metadata": {},
     "output_type": "execute_result"
    }
   ],
   "source": [
    "cluster_seven"
   ]
  },
  {
   "cell_type": "code",
   "execution_count": 33,
   "metadata": {},
   "outputs": [
    {
     "data": {
      "text/plain": [
       "array([2.17928221, 3.36957675, 2.6700942 , 3.63155101, 2.5923776 ,\n",
       "       3.38184954, 2.12518243, 3.74326655, 2.42719252, 4.15918137,\n",
       "       3.99625182, 2.73776038, 4.21629959, 2.65719119, 3.58202866,\n",
       "       3.72960064, 3.77636991, 3.49767812, 3.85710495, 3.34423511,\n",
       "       2.88785326, 3.23404538, 2.52567334, 3.62873159, 2.73122595,\n",
       "       3.77202468, 2.8175335 , 3.35819955, 3.48096059, 3.09788377,\n",
       "       2.90921454, 2.94404272, 3.49469285, 3.13659281, 2.50928751,\n",
       "       3.21649861, 3.50918801, 2.91770598, 3.03943877, 3.1310203 ,\n",
       "       2.61546371, 3.2365331 , 3.27185883, 2.94682898, 2.91156959,\n",
       "       2.88825129, 3.16485339, 2.31408385, 3.68110654, 2.92579939])"
      ]
     },
     "execution_count": 33,
     "metadata": {},
     "output_type": "execute_result"
    }
   ],
   "source": [
    "cluster_eight"
   ]
  },
  {
   "cell_type": "code",
   "execution_count": 34,
   "metadata": {},
   "outputs": [
    {
     "data": {
      "text/plain": [
       "array([1.89171773, 3.74429844, 2.82029819, 3.79866069, 2.40514246,\n",
       "       3.17073094, 1.89178091, 3.97997347, 2.35476025, 4.17351065,\n",
       "       2.19862278, 3.91019647, 3.01203487, 3.18823046, 2.20219218,\n",
       "       1.81815023, 2.01402489, 1.61548424, 2.2772443 , 2.06510203,\n",
       "       2.72780972, 3.10297555, 2.15582159, 3.22793607, 2.98537494,\n",
       "       3.07780024, 2.91354476, 3.18175501, 2.97801504, 3.18314486,\n",
       "       3.41913576, 2.62540274, 3.90946996, 2.15042011, 2.64530293,\n",
       "       2.49946301, 3.69751722, 2.31789753, 3.11718997, 3.55916356,\n",
       "       3.52997663, 2.02056352, 3.60139617, 2.12897214, 3.65102028,\n",
       "       2.15951734, 4.04804473, 2.99121865, 3.8816097 , 3.64088066])"
      ]
     },
     "execution_count": 34,
     "metadata": {},
     "output_type": "execute_result"
    }
   ],
   "source": [
    "cluster_nine"
   ]
  },
  {
   "cell_type": "code",
   "execution_count": 35,
   "metadata": {
    "scrolled": true
   },
   "outputs": [
    {
     "data": {
      "text/plain": [
       "array([2.59113193, 2.82211328, 2.80578657, 3.20997111, 3.04797339,\n",
       "       2.24879629, 2.4862558 , 3.20992734, 3.32959818, 3.73260089,\n",
       "       3.10702092, 3.24183665, 3.63779217, 2.5325221 , 2.79755756,\n",
       "       2.82080014, 3.3772214 , 3.01667688, 3.56552569, 3.11152937,\n",
       "       3.37744025, 3.06898363, 3.48831305, 2.58172109, 3.47535674,\n",
       "       2.50590913, 3.22791736, 2.7660422 , 2.53260965, 3.0155826 ,\n",
       "       2.9187604 , 3.53024599, 3.83730193, 3.15249934, 2.00240742,\n",
       "       3.48279786, 3.31983717, 3.05834719, 2.49483498, 3.45408387,\n",
       "       4.18970498, 1.69101812, 4.34237941, 1.73921037, 4.17644227,\n",
       "       1.6324083 , 4.27203887, 3.91919811, 4.1898363 , 4.37043684])"
      ]
     },
     "execution_count": 35,
     "metadata": {},
     "output_type": "execute_result"
    }
   ],
   "source": [
    "cluster_ten"
   ]
  },
  {
   "cell_type": "code",
   "execution_count": 36,
   "metadata": {},
   "outputs": [],
   "source": [
    "# to make this data more comprehensible, we'll compile the 50 scores into the \n",
    "# 5 Factor Model (FFM) of each Personality Cluster Type.\n",
    "\n",
    "# NOTE: the subtraction and addition of specific questions follows the following logic:\n",
    "\n",
    "# subtraction: if a True (+1) answer to this question deters from one of the FFM traits\n",
    "# ie. if person does not talk a lot, extroversion score specifically decreases\n",
    "\n",
    "# addition: if a True (+1) answer to this question compliments one of the FFM traits\n",
    "# ie. if person is the life of the party, extroversion score specifically increases"
   ]
  },
  {
   "cell_type": "code",
   "execution_count": 37,
   "metadata": {},
   "outputs": [],
   "source": [
    "cluster_one_scores = {}\n",
    "\n",
    "# EXTROVERSION SCORE\n",
    "cluster_one_scores['extroversion_score'] =  cluster_one[0] - cluster_one[1] + cluster_one[2] - cluster_one[3] + cluster_one[4] - cluster_one[5] + cluster_one[6] - cluster_one[7] + cluster_one[8] - cluster_one[9]\n",
    "\n",
    "# NEUROTICISM SCORE\n",
    "cluster_one_scores['neuroticism_score'] =  cluster_one[0] - cluster_one[1] + cluster_one[2] - cluster_one[3] + cluster_one[4] + cluster_one[5] + cluster_one[6] + cluster_one[7] + cluster_one[8] + cluster_one[9]\n",
    "\n",
    "# AGREEABLENESS SCORE\n",
    "cluster_one_scores['agreeableness_score'] =  -cluster_one[0] + cluster_one[1] - cluster_one[2] + cluster_one[3] - cluster_one[4] - cluster_one[5] + cluster_one[6] - cluster_one[7] + cluster_one[8] + cluster_one[9]\n",
    "\n",
    "# CONSCIENTIOUSNESS SCORE\n",
    "cluster_one_scores['conscientiousness_score'] =  cluster_one[0] - cluster_one[1] + cluster_one[2] - cluster_one[3] + cluster_one[4] - cluster_one[5] + cluster_one[6] - cluster_one[7] + cluster_one[8] + cluster_one[9]\n",
    "\n",
    "# OPENNESS SCORE\n",
    "cluster_one_scores['openness_score'] =  cluster_one[0] - cluster_one[1] + cluster_one[2] - cluster_one[3] + cluster_one[4] - cluster_one[5] + cluster_one[6] + cluster_one[7] + cluster_one[8] + cluster_one[9]\n"
   ]
  },
  {
   "cell_type": "code",
   "execution_count": 38,
   "metadata": {},
   "outputs": [
    {
     "data": {
      "text/plain": [
       "{'extroversion_score': 9.418439308022236,\n",
       " 'neuroticism_score': 22.81672951267956,\n",
       " 'agreeableness_score': -2.472352551740031,\n",
       " 'conscientiousness_score': 14.16176851558679,\n",
       " 'openness_score': 19.690221927981366}"
      ]
     },
     "execution_count": 38,
     "metadata": {},
     "output_type": "execute_result"
    }
   ],
   "source": [
    "cluster_one_scores"
   ]
  },
  {
   "cell_type": "code",
   "execution_count": 39,
   "metadata": {},
   "outputs": [],
   "source": [
    "cluster_two_scores = {}\n",
    "\n",
    "# EXTROVERSION SCORE\n",
    "cluster_two_scores['extroversion_score'] =  cluster_two[0] - cluster_two[1] + cluster_two[2] - cluster_two[3] + cluster_two[4] - cluster_two[5] + cluster_two[6] - cluster_two[7] + cluster_two[8] - cluster_two[9]\n",
    "\n",
    "# NEUROTICISM SCORE\n",
    "cluster_two_scores['neuroticism_score'] =  cluster_two[0] - cluster_two[1] + cluster_two[2] - cluster_two[3] + cluster_two[4] + cluster_two[5] + cluster_two[6] + cluster_two[7] + cluster_two[8] + cluster_two[9]\n",
    "\n",
    "# AGREEABLENESS SCORE\n",
    "cluster_two_scores['agreeableness_score'] =  -cluster_two[0] + cluster_two[1] - cluster_two[2] + cluster_two[3] - cluster_two[4] - cluster_two[5] + cluster_two[6] - cluster_two[7] + cluster_two[8] + cluster_two[9]\n",
    "\n",
    "# CONSCIENTIOUSNESS SCORE\n",
    "cluster_two_scores['conscientiousness_score'] =  cluster_two[0] - cluster_two[1] + cluster_two[2] - cluster_two[3] + cluster_two[4] - cluster_two[5] + cluster_two[6] - cluster_two[7] + cluster_two[8] + cluster_two[9]\n",
    "\n",
    "# OPENNESS SCORE\n",
    "cluster_two_scores['openness_score'] =  cluster_two[0] - cluster_two[1] + cluster_two[2] - cluster_two[3] + cluster_two[4] - cluster_two[5] + cluster_two[6] + cluster_two[7] + cluster_two[8] + cluster_two[9]\n"
   ]
  },
  {
   "cell_type": "code",
   "execution_count": 40,
   "metadata": {},
   "outputs": [
    {
     "data": {
      "text/plain": [
       "{'extroversion_score': -12.106881315082008,\n",
       " 'neuroticism_score': 12.675431820288606,\n",
       " 'agreeableness_score': 3.1387386830639694,\n",
       " 'conscientiousness_score': -2.735438618175065,\n",
       " 'openness_score': 6.084757284553353}"
      ]
     },
     "execution_count": 40,
     "metadata": {},
     "output_type": "execute_result"
    }
   ],
   "source": [
    "cluster_two_scores"
   ]
  },
  {
   "cell_type": "code",
   "execution_count": 41,
   "metadata": {},
   "outputs": [],
   "source": [
    "cluster_three_scores = {}\n",
    "\n",
    "# EXTROVERSION SCORE\n",
    "cluster_three_scores['extroversion_score'] =  cluster_three[0] - cluster_three[1] + cluster_three[2] - cluster_three[3] + cluster_three[4] - cluster_three[5] + cluster_three[6] - cluster_three[7] + cluster_three[8] - cluster_three[9]\n",
    "\n",
    "# NEUROTICISM SCORE\n",
    "cluster_three_scores['neuroticism_score'] =  cluster_three[0] - cluster_three[1] + cluster_three[2] - cluster_three[3] + cluster_three[4] + cluster_three[5] + cluster_three[6] + cluster_three[7] + cluster_three[8] + cluster_three[9]\n",
    "\n",
    "# AGREEABLENESS SCORE\n",
    "cluster_three_scores['agreeableness_score'] =  -cluster_three[0] + cluster_three[1] - cluster_three[2] + cluster_three[3] - cluster_three[4] - cluster_three[5] + cluster_three[6] - cluster_three[7] + cluster_three[8] + cluster_three[9]\n",
    "\n",
    "# CONSCIENTIOUSNESS SCORE\n",
    "cluster_three_scores['conscientiousness_score'] =  cluster_three[0] - cluster_three[1] + cluster_three[2] - cluster_three[3] + cluster_three[4] - cluster_three[5] + cluster_three[6] - cluster_three[7] + cluster_three[8] + cluster_three[9]\n",
    "\n",
    "# OPENNESS SCORE\n",
    "cluster_three_scores['openness_score'] =  cluster_three[0] - cluster_three[1] + cluster_three[2] - cluster_three[3] + cluster_three[4] - cluster_three[5] + cluster_three[6] + cluster_three[7] + cluster_three[8] + cluster_three[9]\n"
   ]
  },
  {
   "cell_type": "code",
   "execution_count": 42,
   "metadata": {},
   "outputs": [
    {
     "data": {
      "text/plain": [
       "{'extroversion_score': 0.4408099688473518,\n",
       " 'neuroticism_score': 1.3909657320872277,\n",
       " 'agreeableness_score': -0.4885773624091373,\n",
       " 'conscientiousness_score': 0.776220145379024,\n",
       " 'openness_score': 1.036863966770509}"
      ]
     },
     "execution_count": 42,
     "metadata": {},
     "output_type": "execute_result"
    }
   ],
   "source": [
    "cluster_three_scores"
   ]
  },
  {
   "cell_type": "code",
   "execution_count": 43,
   "metadata": {},
   "outputs": [],
   "source": [
    "cluster_four_scores = {}\n",
    "\n",
    "# EXTROVERSION SCORE\n",
    "cluster_four_scores['extroversion_score'] =  cluster_four[0] - cluster_four[1] + cluster_four[2] - cluster_four[3] + cluster_four[4] - cluster_four[5] + cluster_four[6] - cluster_four[7] + cluster_four[8] - cluster_four[9]\n",
    "\n",
    "# NEUROTICISM SCORE\n",
    "cluster_four_scores['neuroticism_score'] =  cluster_four[0] - cluster_four[1] + cluster_four[2] - cluster_four[3] + cluster_four[4] + cluster_four[5] + cluster_four[6] + cluster_four[7] + cluster_four[8] + cluster_four[9]\n",
    "\n",
    "# AGREEABLENESS SCORE\n",
    "cluster_four_scores['agreeableness_score'] =  -cluster_four[0] + cluster_four[1] - cluster_four[2] + cluster_four[3] - cluster_four[4] - cluster_four[5] + cluster_four[6] - cluster_four[7] + cluster_four[8] + cluster_four[9]\n",
    "\n",
    "# CONSCIENTIOUSNESS SCORE\n",
    "cluster_four_scores['conscientiousness_score'] =  cluster_four[0] - cluster_four[1] + cluster_four[2] - cluster_four[3] + cluster_four[4] - cluster_four[5] + cluster_four[6] - cluster_four[7] + cluster_four[8] + cluster_four[9]\n",
    "\n",
    "# OPENNESS SCORE\n",
    "cluster_four_scores['openness_score'] =  cluster_four[0] - cluster_four[1] + cluster_four[2] - cluster_four[3] + cluster_four[4] - cluster_four[5] + cluster_four[6] + cluster_four[7] + cluster_four[8] + cluster_four[9]\n"
   ]
  },
  {
   "cell_type": "code",
   "execution_count": 44,
   "metadata": {},
   "outputs": [
    {
     "data": {
      "text/plain": [
       "{'extroversion_score': 6.063536261232744,\n",
       " 'neuroticism_score': 21.75743576762436,\n",
       " 'agreeableness_score': -1.7647133274269127,\n",
       " 'conscientiousness_score': 11.796861156815591,\n",
       " 'openness_score': 17.5417668649538}"
      ]
     },
     "execution_count": 44,
     "metadata": {},
     "output_type": "execute_result"
    }
   ],
   "source": [
    "cluster_four_scores"
   ]
  },
  {
   "cell_type": "code",
   "execution_count": 45,
   "metadata": {},
   "outputs": [],
   "source": [
    "cluster_five_scores = {}\n",
    "\n",
    "# EXTROVERSION SCORE\n",
    "cluster_five_scores['extroversion_score'] =  cluster_five[0] - cluster_five[1] + cluster_five[2] - cluster_five[3] + cluster_five[4] - cluster_five[5] + cluster_five[6] - cluster_five[7] + cluster_five[8] - cluster_five[9]\n",
    "\n",
    "# NEUROTICISM SCORE\n",
    "cluster_five_scores['neuroticism_score'] =  cluster_five[0] - cluster_five[1] + cluster_five[2] - cluster_five[3] + cluster_five[4] + cluster_five[5] + cluster_five[6] + cluster_five[7] + cluster_five[8] + cluster_five[9]\n",
    "\n",
    "# AGREEABLENESS SCORE\n",
    "cluster_five_scores['agreeableness_score'] =  -cluster_five[0] + cluster_five[1] - cluster_five[2] + cluster_five[3] - cluster_five[4] - cluster_five[5] + cluster_five[6] - cluster_five[7] + cluster_five[8] + cluster_five[9]\n",
    "\n",
    "# CONSCIENTIOUSNESS SCORE\n",
    "cluster_five_scores['conscientiousness_score'] =  cluster_five[0] - cluster_five[1] + cluster_five[2] - cluster_five[3] + cluster_five[4] - cluster_five[5] + cluster_five[6] - cluster_five[7] + cluster_five[8] + cluster_five[9]\n",
    "\n",
    "# OPENNESS SCORE\n",
    "cluster_five_scores['openness_score'] =  cluster_five[0] - cluster_five[1] + cluster_five[2] - cluster_five[3] + cluster_five[4] - cluster_five[5] + cluster_five[6] + cluster_five[7] + cluster_five[8] + cluster_five[9]\n"
   ]
  },
  {
   "cell_type": "code",
   "execution_count": 46,
   "metadata": {},
   "outputs": [
    {
     "data": {
      "text/plain": [
       "{'extroversion_score': -4.32482916919505,\n",
       " 'neuroticism_score': 16.819090837136894,\n",
       " 'agreeableness_score': 0.6138300398385099,\n",
       " 'conscientiousness_score': 3.8468722792390917,\n",
       " 'openness_score': 11.883017175421466}"
      ]
     },
     "execution_count": 46,
     "metadata": {},
     "output_type": "execute_result"
    }
   ],
   "source": [
    "cluster_five_scores"
   ]
  },
  {
   "cell_type": "code",
   "execution_count": 47,
   "metadata": {},
   "outputs": [],
   "source": [
    "cluster_six_scores = {}\n",
    "\n",
    "# EXTROVERSION SCORE\n",
    "cluster_six_scores['extroversion_score'] =  cluster_six[0] - cluster_six[1] + cluster_six[2] - cluster_six[3] + cluster_six[4] - cluster_six[5] + cluster_six[6] - cluster_six[7] + cluster_six[8] - cluster_six[9]\n",
    "\n",
    "# NEUROTICISM SCORE\n",
    "cluster_six_scores['neuroticism_score'] =  cluster_six[0] - cluster_six[1] + cluster_six[2] - cluster_six[3] + cluster_six[4] + cluster_six[5] + cluster_six[6] + cluster_six[7] + cluster_six[8] + cluster_six[9]\n",
    "\n",
    "# AGREEABLENESS SCORE\n",
    "cluster_six_scores['agreeableness_score'] =  -cluster_six[0] + cluster_six[1] - cluster_six[2] + cluster_six[3] - cluster_six[4] - cluster_six[5] + cluster_six[6] - cluster_six[7] + cluster_six[8] + cluster_six[9]\n",
    "\n",
    "# CONSCIENTIOUSNESS SCORE\n",
    "cluster_six_scores['conscientiousness_score'] =  cluster_six[0] - cluster_six[1] + cluster_six[2] - cluster_six[3] + cluster_six[4] - cluster_six[5] + cluster_six[6] - cluster_six[7] + cluster_six[8] + cluster_six[9]\n",
    "\n",
    "# OPENNESS SCORE\n",
    "cluster_six_scores['openness_score'] =  cluster_six[0] - cluster_six[1] + cluster_six[2] - cluster_six[3] + cluster_six[4] - cluster_six[5] + cluster_six[6] + cluster_six[7] + cluster_six[8] + cluster_six[9]\n"
   ]
  },
  {
   "cell_type": "code",
   "execution_count": 48,
   "metadata": {},
   "outputs": [
    {
     "data": {
      "text/plain": [
       "{'extroversion_score': 1.6348147452159485,\n",
       " 'neuroticism_score': 19.614582354599264,\n",
       " 'agreeableness_score': 0.3044254439537828,\n",
       " 'conscientiousness_score': 8.997024648438725,\n",
       " 'openness_score': 15.560963387516054}"
      ]
     },
     "execution_count": 48,
     "metadata": {},
     "output_type": "execute_result"
    }
   ],
   "source": [
    "cluster_six_scores"
   ]
  },
  {
   "cell_type": "code",
   "execution_count": 49,
   "metadata": {},
   "outputs": [],
   "source": [
    "cluster_seven_scores = {}\n",
    "\n",
    "# EXTROVERSION SCORE\n",
    "cluster_seven_scores['extroversion_score'] =  cluster_seven[0] - cluster_seven[1] + cluster_seven[2] - cluster_seven[3] + cluster_seven[4] - cluster_seven[5] + cluster_seven[6] - cluster_seven[7] + cluster_seven[8] - cluster_seven[9]\n",
    "\n",
    "# NEUROTICISM SCORE\n",
    "cluster_seven_scores['neuroticism_score'] =  cluster_seven[0] - cluster_seven[1] + cluster_seven[2] - cluster_seven[3] + cluster_seven[4] + cluster_seven[5] + cluster_seven[6] + cluster_seven[7] + cluster_seven[8] + cluster_seven[9]\n",
    "\n",
    "# AGREEABLENESS SCORE\n",
    "cluster_seven_scores['agreeableness_score'] =  -cluster_seven[0] + cluster_seven[1] - cluster_seven[2] + cluster_seven[3] - cluster_seven[4] - cluster_seven[5] + cluster_seven[6] - cluster_seven[7] + cluster_seven[8] + cluster_seven[9]\n",
    "\n",
    "# CONSCIENTIOUSNESS SCORE\n",
    "cluster_seven_scores['conscientiousness_score'] =  cluster_seven[0] - cluster_seven[1] + cluster_seven[2] - cluster_seven[3] + cluster_seven[4] - cluster_seven[5] + cluster_seven[6] - cluster_seven[7] + cluster_seven[8] + cluster_seven[9]\n",
    "\n",
    "# OPENNESS SCORE\n",
    "cluster_seven_scores['openness_score'] =  cluster_seven[0] - cluster_seven[1] + cluster_seven[2] - cluster_seven[3] + cluster_seven[4] - cluster_seven[5] + cluster_seven[6] + cluster_seven[7] + cluster_seven[8] + cluster_seven[9]\n"
   ]
  },
  {
   "cell_type": "code",
   "execution_count": 50,
   "metadata": {},
   "outputs": [
    {
     "data": {
      "text/plain": [
       "{'extroversion_score': 8.72930636768416,\n",
       " 'neuroticism_score': 22.649160452765436,\n",
       " 'agreeableness_score': -1.7636929349284136,\n",
       " 'conscientiousness_score': 14.026447079019384,\n",
       " 'openness_score': 19.277882087870847}"
      ]
     },
     "execution_count": 50,
     "metadata": {},
     "output_type": "execute_result"
    }
   ],
   "source": [
    "cluster_seven_scores"
   ]
  },
  {
   "cell_type": "code",
   "execution_count": 51,
   "metadata": {},
   "outputs": [],
   "source": [
    "cluster_eight_scores = {}\n",
    "\n",
    "# EXTROVERSION SCORE\n",
    "cluster_eight_scores['extroversion_score'] =  cluster_eight[0] - cluster_eight[1] + cluster_eight[2] - cluster_eight[3] + cluster_eight[4] - cluster_eight[5] + cluster_eight[6] - cluster_eight[7] + cluster_eight[8] - cluster_eight[9]\n",
    "\n",
    "# NEUROTICISM SCORE\n",
    "cluster_eight_scores['neuroticism_score'] =  cluster_eight[0] - cluster_eight[1] + cluster_eight[2] - cluster_eight[3] + cluster_eight[4] + cluster_eight[5] + cluster_eight[6] + cluster_eight[7] + cluster_eight[8] + cluster_eight[9]\n",
    "\n",
    "# AGREEABLENESS SCORE\n",
    "cluster_eight_scores['agreeableness_score'] =  -cluster_eight[0] + cluster_eight[1] - cluster_eight[2] + cluster_eight[3] - cluster_eight[4] - cluster_eight[5] + cluster_eight[6] - cluster_eight[7] + cluster_eight[8] + cluster_eight[9]\n",
    "\n",
    "# CONSCIENTIOUSNESS SCORE\n",
    "cluster_eight_scores['conscientiousness_score'] =  cluster_eight[0] - cluster_eight[1] + cluster_eight[2] - cluster_eight[3] + cluster_eight[4] - cluster_eight[5] + cluster_eight[6] - cluster_eight[7] + cluster_eight[8] + cluster_eight[9]\n",
    "\n",
    "# OPENNESS SCORE\n",
    "cluster_eight_scores['openness_score'] =  cluster_eight[0] - cluster_eight[1] + cluster_eight[2] - cluster_eight[3] + cluster_eight[4] - cluster_eight[5] + cluster_eight[6] + cluster_eight[7] + cluster_eight[8] + cluster_eight[9]\n"
   ]
  },
  {
   "cell_type": "code",
   "execution_count": 52,
   "metadata": {},
   "outputs": [
    {
     "data": {
      "text/plain": [
       "{'extroversion_score': -6.291296271726161,\n",
       " 'neuroticism_score': 16.277298659944307,\n",
       " 'agreeableness_score': 1.145813984343937,\n",
       " 'conscientiousness_score': 2.02706647207115,\n",
       " 'openness_score': 9.513599575427923}"
      ]
     },
     "execution_count": 52,
     "metadata": {},
     "output_type": "execute_result"
    }
   ],
   "source": [
    "cluster_eight_scores"
   ]
  },
  {
   "cell_type": "code",
   "execution_count": 53,
   "metadata": {},
   "outputs": [],
   "source": [
    "cluster_nine_scores = {}\n",
    "\n",
    "# EXTROVERSION SCORE\n",
    "cluster_nine_scores['extroversion_score'] =  cluster_nine[0] - cluster_nine[1] + cluster_nine[2] - cluster_nine[3] + cluster_nine[4] - cluster_nine[5] + cluster_nine[6] - cluster_nine[7] + cluster_nine[8] - cluster_nine[9]\n",
    "\n",
    "# NEUROTICISM SCORE\n",
    "cluster_nine_scores['neuroticism_score'] =  cluster_nine[0] - cluster_nine[1] + cluster_nine[2] - cluster_nine[3] + cluster_nine[4] + cluster_nine[5] + cluster_nine[6] + cluster_nine[7] + cluster_nine[8] + cluster_nine[9]\n",
    "\n",
    "# AGREEABLENESS SCORE\n",
    "cluster_nine_scores['agreeableness_score'] =  -cluster_nine[0] + cluster_nine[1] - cluster_nine[2] + cluster_nine[3] - cluster_nine[4] - cluster_nine[5] + cluster_nine[6] - cluster_nine[7] + cluster_nine[8] + cluster_nine[9]\n",
    "\n",
    "# CONSCIENTIOUSNESS SCORE\n",
    "cluster_nine_scores['conscientiousness_score'] =  cluster_nine[0] - cluster_nine[1] + cluster_nine[2] - cluster_nine[3] + cluster_nine[4] - cluster_nine[5] + cluster_nine[6] - cluster_nine[7] + cluster_nine[8] + cluster_nine[9]\n",
    "\n",
    "# OPENNESS SCORE\n",
    "cluster_nine_scores['openness_score'] =  cluster_nine[0] - cluster_nine[1] + cluster_nine[2] - cluster_nine[3] + cluster_nine[4] - cluster_nine[5] + cluster_nine[6] + cluster_nine[7] + cluster_nine[8] + cluster_nine[9]\n"
   ]
  },
  {
   "cell_type": "code",
   "execution_count": 54,
   "metadata": {},
   "outputs": [
    {
     "data": {
      "text/plain": [
       "{'extroversion_score': -7.503474635163293,\n",
       " 'neuroticism_score': 15.144955461494725,\n",
       " 'agreeableness_score': 1.6951481458083189,\n",
       " 'conscientiousness_score': 0.8435466548739594,\n",
       " 'openness_score': 8.80349358771874}"
      ]
     },
     "execution_count": 54,
     "metadata": {},
     "output_type": "execute_result"
    }
   ],
   "source": [
    "cluster_nine_scores"
   ]
  },
  {
   "cell_type": "code",
   "execution_count": 55,
   "metadata": {},
   "outputs": [],
   "source": [
    "cluster_ten_scores = {}\n",
    "\n",
    "# EXTROVERSION SCORE\n",
    "cluster_ten_scores['extroversion_score'] =  cluster_ten[0] - cluster_ten[1] + cluster_ten[2] - cluster_ten[3] + cluster_ten[4] - cluster_ten[5] + cluster_ten[6] - cluster_ten[7] + cluster_ten[8] - cluster_ten[9]\n",
    "\n",
    "# NEUROTICISM SCORE\n",
    "cluster_ten_scores['neuroticism_score'] =  cluster_ten[0] - cluster_ten[1] + cluster_ten[2] - cluster_ten[3] + cluster_ten[4] + cluster_ten[5] + cluster_ten[6] + cluster_ten[7] + cluster_ten[8] + cluster_ten[9]\n",
    "\n",
    "# AGREEABLENESS SCORE\n",
    "cluster_ten_scores['agreeableness_score'] =  -cluster_ten[0] + cluster_ten[1] - cluster_ten[2] + cluster_ten[3] - cluster_ten[4] - cluster_ten[5] + cluster_ten[6] - cluster_ten[7] + cluster_ten[8] + cluster_ten[9]\n",
    "\n",
    "# CONSCIENTIOUSNESS SCORE\n",
    "cluster_ten_scores['conscientiousness_score'] =  cluster_ten[0] - cluster_ten[1] + cluster_ten[2] - cluster_ten[3] + cluster_ten[4] - cluster_ten[5] + cluster_ten[6] - cluster_ten[7] + cluster_ten[8] + cluster_ten[9]\n",
    "\n",
    "# OPENNESS SCORE\n",
    "cluster_ten_scores['openness_score'] =  cluster_ten[0] - cluster_ten[1] + cluster_ten[2] - cluster_ten[3] + cluster_ten[4] - cluster_ten[5] + cluster_ten[6] + cluster_ten[7] + cluster_ten[8] + cluster_ten[9]\n"
   ]
  },
  {
   "cell_type": "code",
   "execution_count": 56,
   "metadata": {},
   "outputs": [
    {
     "data": {
      "text/plain": [
       "{'extroversion_score': -0.9626630482359997,\n",
       " 'neuroticism_score': 17.41998599317168,\n",
       " 'agreeableness_score': 1.6769237503282786,\n",
       " 'conscientiousness_score': 6.502538737634612,\n",
       " 'openness_score': 12.922393416790703}"
      ]
     },
     "execution_count": 56,
     "metadata": {},
     "output_type": "execute_result"
    }
   ],
   "source": [
    "cluster_ten_scores"
   ]
  },
  {
   "cell_type": "code",
   "execution_count": 57,
   "metadata": {},
   "outputs": [],
   "source": [
    "# Instead of manually calculating each cluster's Personality Type's FFM scores, we can automate it as follows:"
   ]
  },
  {
   "cell_type": "code",
   "execution_count": 58,
   "metadata": {},
   "outputs": [],
   "source": [
    "# dictionary of clusters/personality types\n",
    "all_personality_types = {'cluster_one':cluster_one, 'cluster_two': cluster_two, 'cluster_three' :cluster_three, 'cluster_four':cluster_four, 'cluster_five':cluster_five, \n",
    "'cluster_six': cluster_six, 'cluster_seven': cluster_seven, 'cluster_eight': cluster_eight, 'cluster_nine': cluster_nine, 'cluster_ten': cluster_ten}\n",
    "\n",
    "all_personality_types_scores ={}\n",
    "\n",
    "for name, personality_type in all_personality_types.items():\n",
    "    personality_trait = {}\n",
    "    # PERSONALITY TRAIT'S SCORES\n",
    "    personality_trait['extroversion_score'] =  personality_type[0] - personality_type[1] +personality_type[2] - personality_type[3] + personality_type[4] - personality_type[5] +personality_type[6] - personality_type[7] + personality_type[8] -personality_type[9]\n",
    "    personality_trait['neuroticism_score'] =  personality_type[0] - personality_type[1] + personality_type[2] -personality_type[3] + personality_type[4] + personality_type[5] + personality_type[6] + personality_type[7] + personality_type[8] + personality_type[9]\n",
    "    personality_trait['agreeableness_score'] =  -personality_type[0] +personality_type[1] - personality_type[2] + personality_type[3] - personality_type[4] - personality_type[5] + personality_type[6] - personality_type[7] + personality_type[8] + personality_type[9]\n",
    "    personality_trait['conscientiousness_score'] = personality_type[0] - personality_type[1] + personality_type[2] -personality_type[3] +personality_type[4] - personality_type[5] +personality_type[6] -personality_type[7] + personality_type[8] + personality_type[9]\n",
    "    personality_trait['openness_score'] =  personality_type[0] -personality_type[1] + personality_type[2] - personality_type[3] + personality_type[4] - personality_type[5] +personality_type[6] + personality_type[7] + personality_type[8] + personality_type[9]\n",
    "    \n",
    "    # initiates key-value pairs of cluster & scores\n",
    "    all_personality_types_scores[name] = personality_trait\n",
    "    "
   ]
  },
  {
   "cell_type": "code",
   "execution_count": 59,
   "metadata": {
    "scrolled": true
   },
   "outputs": [
    {
     "data": {
      "text/plain": [
       "{'cluster_one': {'extroversion_score': 9.418439308022236,\n",
       "  'neuroticism_score': 22.81672951267956,\n",
       "  'agreeableness_score': -2.472352551740031,\n",
       "  'conscientiousness_score': 14.16176851558679,\n",
       "  'openness_score': 19.690221927981366},\n",
       " 'cluster_two': {'extroversion_score': -12.106881315082008,\n",
       "  'neuroticism_score': 12.675431820288606,\n",
       "  'agreeableness_score': 3.1387386830639694,\n",
       "  'conscientiousness_score': -2.735438618175065,\n",
       "  'openness_score': 6.084757284553353},\n",
       " 'cluster_three': {'extroversion_score': 0.4408099688473518,\n",
       "  'neuroticism_score': 1.3909657320872277,\n",
       "  'agreeableness_score': -0.4885773624091373,\n",
       "  'conscientiousness_score': 0.776220145379024,\n",
       "  'openness_score': 1.036863966770509},\n",
       " 'cluster_four': {'extroversion_score': 6.063536261232744,\n",
       "  'neuroticism_score': 21.75743576762436,\n",
       "  'agreeableness_score': -1.7647133274269127,\n",
       "  'conscientiousness_score': 11.796861156815591,\n",
       "  'openness_score': 17.5417668649538},\n",
       " 'cluster_five': {'extroversion_score': -4.32482916919505,\n",
       "  'neuroticism_score': 16.819090837136894,\n",
       "  'agreeableness_score': 0.6138300398385099,\n",
       "  'conscientiousness_score': 3.8468722792390917,\n",
       "  'openness_score': 11.883017175421466},\n",
       " 'cluster_six': {'extroversion_score': 1.6348147452159485,\n",
       "  'neuroticism_score': 19.614582354599264,\n",
       "  'agreeableness_score': 0.3044254439537828,\n",
       "  'conscientiousness_score': 8.997024648438725,\n",
       "  'openness_score': 15.560963387516054},\n",
       " 'cluster_seven': {'extroversion_score': 8.72930636768416,\n",
       "  'neuroticism_score': 22.649160452765436,\n",
       "  'agreeableness_score': -1.7636929349284136,\n",
       "  'conscientiousness_score': 14.026447079019384,\n",
       "  'openness_score': 19.277882087870847},\n",
       " 'cluster_eight': {'extroversion_score': -6.291296271726161,\n",
       "  'neuroticism_score': 16.277298659944307,\n",
       "  'agreeableness_score': 1.145813984343937,\n",
       "  'conscientiousness_score': 2.02706647207115,\n",
       "  'openness_score': 9.513599575427923},\n",
       " 'cluster_nine': {'extroversion_score': -7.503474635163293,\n",
       "  'neuroticism_score': 15.144955461494725,\n",
       "  'agreeableness_score': 1.6951481458083189,\n",
       "  'conscientiousness_score': 0.8435466548739594,\n",
       "  'openness_score': 8.80349358771874},\n",
       " 'cluster_ten': {'extroversion_score': -0.9626630482359997,\n",
       "  'neuroticism_score': 17.41998599317168,\n",
       "  'agreeableness_score': 1.6769237503282786,\n",
       "  'conscientiousness_score': 6.502538737634612,\n",
       "  'openness_score': 12.922393416790703}}"
      ]
     },
     "execution_count": 59,
     "metadata": {},
     "output_type": "execute_result"
    }
   ],
   "source": [
    "all_personality_types_scores"
   ]
  },
  {
   "cell_type": "code",
   "execution_count": 60,
   "metadata": {},
   "outputs": [],
   "source": [
    "# Lastly, we normalize all of these clusters' data scores to make them relative to each other & thus, yield \n",
    "# an informative comparison between all of the Personality Types with each type being guided by the FFM.\n",
    "# MIN-MAX NORMALIZATION EQUATION IS USED [v’=(v-min)/(max-min)]"
   ]
  },
  {
   "cell_type": "code",
   "execution_count": 73,
   "metadata": {},
   "outputs": [],
   "source": [
    "# total scores for each trait\n",
    "total_extroversion = []\n",
    "total_neuroticism = []\n",
    "total_agreeableness = []\n",
    "total_conscientiousness = []\n",
    "total_openness = []\n",
    "\n",
    "# adds each trait's score to the totalized array\n",
    "for personality_type, personality_trait in all_personality_types_scores.items():\n",
    "    total_extroversion.append(personality_trait['extroversion_score'])\n",
    "    total_neuroticism.append(personality_trait['neuroticism_score'])\n",
    "    total_agreeableness.append(personality_trait['agreeableness_score'])\n",
    "    total_conscientiousness.append(personality_trait['conscientiousness_score'])\n",
    "    total_openness.append(personality_trait['openness_score'])"
   ]
  },
  {
   "cell_type": "code",
   "execution_count": 74,
   "metadata": {},
   "outputs": [],
   "source": [
    "# The total scores for each personality trait (filtered clusters)"
   ]
  },
  {
   "cell_type": "code",
   "execution_count": 75,
   "metadata": {},
   "outputs": [
    {
     "data": {
      "text/plain": [
       "[9.418439308022236,\n",
       " -12.106881315082008,\n",
       " 0.4408099688473518,\n",
       " 6.063536261232744,\n",
       " -4.32482916919505,\n",
       " 1.6348147452159485,\n",
       " 8.72930636768416,\n",
       " -6.291296271726161,\n",
       " -7.503474635163293,\n",
       " -0.9626630482359997]"
      ]
     },
     "execution_count": 75,
     "metadata": {},
     "output_type": "execute_result"
    }
   ],
   "source": [
    "total_extroversion"
   ]
  },
  {
   "cell_type": "code",
   "execution_count": 76,
   "metadata": {},
   "outputs": [
    {
     "data": {
      "text/plain": [
       "[22.81672951267956,\n",
       " 12.675431820288606,\n",
       " 1.3909657320872277,\n",
       " 21.75743576762436,\n",
       " 16.819090837136894,\n",
       " 19.614582354599264,\n",
       " 22.649160452765436,\n",
       " 16.277298659944307,\n",
       " 15.144955461494725,\n",
       " 17.41998599317168]"
      ]
     },
     "execution_count": 76,
     "metadata": {},
     "output_type": "execute_result"
    }
   ],
   "source": [
    "total_neuroticism"
   ]
  },
  {
   "cell_type": "code",
   "execution_count": 77,
   "metadata": {},
   "outputs": [
    {
     "data": {
      "text/plain": [
       "[-2.472352551740031,\n",
       " 3.1387386830639694,\n",
       " -0.4885773624091373,\n",
       " -1.7647133274269127,\n",
       " 0.6138300398385099,\n",
       " 0.3044254439537828,\n",
       " -1.7636929349284136,\n",
       " 1.145813984343937,\n",
       " 1.6951481458083189,\n",
       " 1.6769237503282786]"
      ]
     },
     "execution_count": 77,
     "metadata": {},
     "output_type": "execute_result"
    }
   ],
   "source": [
    "total_agreeableness"
   ]
  },
  {
   "cell_type": "code",
   "execution_count": 78,
   "metadata": {},
   "outputs": [
    {
     "data": {
      "text/plain": [
       "[14.16176851558679,\n",
       " -2.735438618175065,\n",
       " 0.776220145379024,\n",
       " 11.796861156815591,\n",
       " 3.8468722792390917,\n",
       " 8.997024648438725,\n",
       " 14.026447079019384,\n",
       " 2.02706647207115,\n",
       " 0.8435466548739594,\n",
       " 6.502538737634612]"
      ]
     },
     "execution_count": 78,
     "metadata": {},
     "output_type": "execute_result"
    }
   ],
   "source": [
    "total_conscientiousness"
   ]
  },
  {
   "cell_type": "code",
   "execution_count": 79,
   "metadata": {},
   "outputs": [
    {
     "data": {
      "text/plain": [
       "[19.690221927981366,\n",
       " 6.084757284553353,\n",
       " 1.036863966770509,\n",
       " 17.5417668649538,\n",
       " 11.883017175421466,\n",
       " 15.560963387516054,\n",
       " 19.277882087870847,\n",
       " 9.513599575427923,\n",
       " 8.80349358771874,\n",
       " 12.922393416790703]"
      ]
     },
     "execution_count": 79,
     "metadata": {},
     "output_type": "execute_result"
    }
   ],
   "source": [
    "total_openness"
   ]
  },
  {
   "cell_type": "code",
   "execution_count": null,
   "metadata": {},
   "outputs": [],
   "source": [
    "# MIN-MAX NORMALIZATION EQUATION is used [v’=(v-min)/(max-min)] for each personality trait score"
   ]
  },
  {
   "cell_type": "code",
   "execution_count": 80,
   "metadata": {},
   "outputs": [],
   "source": [
    "total_extroversion_normalized = (total_extroversion-min(total_extroversion))/(max(total_extroversion)-min(total_extroversion))\n",
    "total_neuroticism_normalized = (total_neuroticism-min(total_neuroticism))/(max(total_neuroticism)-min(total_neuroticism))\n",
    "total_agreeableness_normalized = (total_agreeableness-min(total_agreeableness))/(max(total_agreeableness)-min(total_agreeableness))\n",
    "total_conscientiousness_normalized = (total_conscientiousness-min(total_conscientiousness))/(max(total_conscientiousness)-min(total_conscientiousness))\n",
    "total_openness_normalized = (total_openness-min(total_openness))/(max(total_openness)-min(total_openness))"
   ]
  },
  {
   "cell_type": "code",
   "execution_count": null,
   "metadata": {},
   "outputs": [],
   "source": [
    "# each personality trait's normalized scores"
   ]
  },
  {
   "cell_type": "code",
   "execution_count": 87,
   "metadata": {},
   "outputs": [
    {
     "data": {
      "text/plain": [
       "array([1.        , 0.        , 0.58292703, 0.84414155, 0.36153014,\n",
       "       0.63839681, 0.96798501, 0.27017414, 0.21386007, 0.51772601])"
      ]
     },
     "execution_count": 87,
     "metadata": {},
     "output_type": "execute_result"
    }
   ],
   "source": [
    "total_extroversion_normalized"
   ]
  },
  {
   "cell_type": "code",
   "execution_count": 82,
   "metadata": {},
   "outputs": [
    {
     "data": {
      "text/plain": [
       "array([1.        , 0.52667742, 0.        , 0.95055981, 0.72007352,\n",
       "       0.85054688, 0.99217909, 0.69478657, 0.64193696, 0.74811897])"
      ]
     },
     "execution_count": 82,
     "metadata": {},
     "output_type": "execute_result"
    }
   ],
   "source": [
    "total_neuroticism_normalized"
   ]
  },
  {
   "cell_type": "code",
   "execution_count": 83,
   "metadata": {},
   "outputs": [
    {
     "data": {
      "text/plain": [
       "array([0.        , 1.        , 0.35354535, 0.12611437, 0.55001469,\n",
       "       0.49487308, 0.12629622, 0.64482404, 0.74272553, 0.7394776 ])"
      ]
     },
     "execution_count": 83,
     "metadata": {},
     "output_type": "execute_result"
    }
   ],
   "source": [
    "total_agreeableness_normalized"
   ]
  },
  {
   "cell_type": "code",
   "execution_count": 84,
   "metadata": {},
   "outputs": [
    {
     "data": {
      "text/plain": [
       "array([1.        , 0.        , 0.2078248 , 0.86004152, 0.38955023,\n",
       "       0.69434334, 0.99199149, 0.28185161, 0.21180928, 0.54671623])"
      ]
     },
     "execution_count": 84,
     "metadata": {},
     "output_type": "execute_result"
    }
   ],
   "source": [
    "total_conscientiousness_normalized"
   ]
  },
  {
   "cell_type": "code",
   "execution_count": 85,
   "metadata": {},
   "outputs": [
    {
     "data": {
      "text/plain": [
       "array([1.        , 0.2706158 , 0.        , 0.88482208, 0.58145848,\n",
       "       0.77863189, 0.97789461, 0.45443483, 0.4163663 , 0.63717908])"
      ]
     },
     "execution_count": 85,
     "metadata": {},
     "output_type": "execute_result"
    }
   ],
   "source": [
    "total_openness_normalized"
   ]
  },
  {
   "cell_type": "code",
   "execution_count": 89,
   "metadata": {},
   "outputs": [],
   "source": [
    "# amalgamating all personality traot scores into a normalized_total_types_scores dictionary"
   ]
  },
  {
   "cell_type": "code",
   "execution_count": 93,
   "metadata": {},
   "outputs": [],
   "source": [
    "normalized_total_types_scores = {}\n",
    "\n",
    "counter = 0\n",
    "\n",
    "# iterates through each personality cluster and adds personality type and normalized traits scores into a dictionary\n",
    "for personality_type, personality_trait in all_personality_types_scores.items():\n",
    "    \n",
    "    normalized_personality_trait ={}\n",
    "    \n",
    "    normalized_personality_trait['extroversion_score'] = total_extroversion_normalized[counter]\n",
    "    normalized_personality_trait['neuroticism_score'] = total_neuroticism_normalized[counter]\n",
    "    normalized_personality_trait['agreeableness_score'] = total_agreeableness_normalized[counter]\n",
    "    normalized_personality_trait['conscientiousness_score'] = total_conscientiousness_normalized[counter]\n",
    "    normalized_personality_trait['openness_score'] = total_openness_normalized[counter]\n",
    "    \n",
    "    # pairs each personality type to its normalized personality traits to a total dict\n",
    "    normalized_total_types_scores[personality_type] = normalized_personality_trait\n",
    "    \n",
    "    # counter incrementer in loop\n",
    "    counter+=1\n"
   ]
  },
  {
   "cell_type": "code",
   "execution_count": null,
   "metadata": {},
   "outputs": [],
   "source": [
    "# each personality type's final personality traits scores(normalized)!"
   ]
  },
  {
   "cell_type": "code",
   "execution_count": 104,
   "metadata": {},
   "outputs": [
    {
     "data": {
      "text/plain": [
       "{'extroversion_score': 1.0,\n",
       " 'neuroticism_score': 1.0,\n",
       " 'agreeableness_score': 0.0,\n",
       " 'conscientiousness_score': 1.0,\n",
       " 'openness_score': 1.0}"
      ]
     },
     "execution_count": 104,
     "metadata": {},
     "output_type": "execute_result"
    }
   ],
   "source": [
    "normalized_total_types_scores['cluster_one']"
   ]
  },
  {
   "cell_type": "code",
   "execution_count": 105,
   "metadata": {},
   "outputs": [
    {
     "data": {
      "text/plain": [
       "{'extroversion_score': 0.0,\n",
       " 'neuroticism_score': 0.5266774246070499,\n",
       " 'agreeableness_score': 1.0,\n",
       " 'conscientiousness_score': 0.0,\n",
       " 'openness_score': 0.2706157962700227}"
      ]
     },
     "execution_count": 105,
     "metadata": {},
     "output_type": "execute_result"
    }
   ],
   "source": [
    "normalized_total_types_scores['cluster_two']"
   ]
  },
  {
   "cell_type": "code",
   "execution_count": 106,
   "metadata": {},
   "outputs": [
    {
     "data": {
      "text/plain": [
       "{'extroversion_score': 0.5829270329409761,\n",
       " 'neuroticism_score': 0.0,\n",
       " 'agreeableness_score': 0.35354534551605604,\n",
       " 'conscientiousness_score': 0.20782480416763896,\n",
       " 'openness_score': 0.0}"
      ]
     },
     "execution_count": 106,
     "metadata": {},
     "output_type": "execute_result"
    }
   ],
   "source": [
    "normalized_total_types_scores['cluster_three']"
   ]
  },
  {
   "cell_type": "code",
   "execution_count": 107,
   "metadata": {},
   "outputs": [
    {
     "data": {
      "text/plain": [
       "{'extroversion_score': 0.8441415528469063,\n",
       " 'neuroticism_score': 0.9505598140676451,\n",
       " 'agreeableness_score': 0.1261143679011729,\n",
       " 'conscientiousness_score': 0.8600415240193192,\n",
       " 'openness_score': 0.8848220750657754}"
      ]
     },
     "execution_count": 107,
     "metadata": {},
     "output_type": "execute_result"
    }
   ],
   "source": [
    "normalized_total_types_scores['cluster_four']"
   ]
  },
  {
   "cell_type": "code",
   "execution_count": 108,
   "metadata": {},
   "outputs": [
    {
     "data": {
      "text/plain": [
       "{'extroversion_score': 0.361530138488812,\n",
       " 'neuroticism_score': 0.7200735181736958,\n",
       " 'agreeableness_score': 0.5500146874169198,\n",
       " 'conscientiousness_score': 0.3895502283488151,\n",
       " 'openness_score': 0.5814584822317371}"
      ]
     },
     "execution_count": 108,
     "metadata": {},
     "output_type": "execute_result"
    }
   ],
   "source": [
    "normalized_total_types_scores['cluster_five']"
   ]
  },
  {
   "cell_type": "code",
   "execution_count": 109,
   "metadata": {},
   "outputs": [
    {
     "data": {
      "text/plain": [
       "{'extroversion_score': 0.6383968118713308,\n",
       " 'neuroticism_score': 0.8505468840751043,\n",
       " 'agreeableness_score': 0.4948730789601586,\n",
       " 'conscientiousness_score': 0.6943433416976627,\n",
       " 'openness_score': 0.7786318930322362}"
      ]
     },
     "execution_count": 109,
     "metadata": {},
     "output_type": "execute_result"
    }
   ],
   "source": [
    "normalized_total_types_scores['cluster_six']"
   ]
  },
  {
   "cell_type": "code",
   "execution_count": 110,
   "metadata": {},
   "outputs": [
    {
     "data": {
      "text/plain": [
       "{'extroversion_score': 0.9679850092640017,\n",
       " 'neuroticism_score': 0.992179085813225,\n",
       " 'agreeableness_score': 0.12629622067379756,\n",
       " 'conscientiousness_score': 0.9919914909312427,\n",
       " 'openness_score': 0.9778946053054914}"
      ]
     },
     "execution_count": 110,
     "metadata": {},
     "output_type": "execute_result"
    }
   ],
   "source": [
    "normalized_total_types_scores['cluster_seven']"
   ]
  },
  {
   "cell_type": "code",
   "execution_count": 111,
   "metadata": {},
   "outputs": [
    {
     "data": {
      "text/plain": [
       "{'extroversion_score': 0.2701741425915709,\n",
       " 'neuroticism_score': 0.6947865700517648,\n",
       " 'agreeableness_score': 0.6448240430741015,\n",
       " 'conscientiousness_score': 0.2818516132604176,\n",
       " 'openness_score': 0.45443483292844916}"
      ]
     },
     "execution_count": 111,
     "metadata": {},
     "output_type": "execute_result"
    }
   ],
   "source": [
    "normalized_total_types_scores['cluster_eight']"
   ]
  },
  {
   "cell_type": "code",
   "execution_count": 112,
   "metadata": {},
   "outputs": [
    {
     "data": {
      "text/plain": [
       "{'extroversion_score': 0.2138600748635372,\n",
       " 'neuroticism_score': 0.6419369629131259,\n",
       " 'agreeableness_score': 0.7427255275584419,\n",
       " 'conscientiousness_score': 0.21180927976540873,\n",
       " 'openness_score': 0.41636629914564033}"
      ]
     },
     "execution_count": 112,
     "metadata": {},
     "output_type": "execute_result"
    }
   ],
   "source": [
    "normalized_total_types_scores['cluster_nine']"
   ]
  },
  {
   "cell_type": "code",
   "execution_count": 113,
   "metadata": {},
   "outputs": [
    {
     "data": {
      "text/plain": [
       "{'extroversion_score': 0.5177260056644333,\n",
       " 'neuroticism_score': 0.7481189667368449,\n",
       " 'agreeableness_score': 0.7394776039875329,\n",
       " 'conscientiousness_score': 0.5467162284678114,\n",
       " 'openness_score': 0.6371790792165047}"
      ]
     },
     "execution_count": 113,
     "metadata": {},
     "output_type": "execute_result"
    }
   ],
   "source": [
    "normalized_total_types_scores['cluster_ten']"
   ]
  },
  {
   "cell_type": "code",
   "execution_count": null,
   "metadata": {},
   "outputs": [],
   "source": [
    "# ALL of the personality type's final personality traits scores combined"
   ]
  },
  {
   "cell_type": "code",
   "execution_count": 114,
   "metadata": {},
   "outputs": [
    {
     "data": {
      "text/plain": [
       "{'cluster_one': {'extroversion_score': 1.0,\n",
       "  'neuroticism_score': 1.0,\n",
       "  'agreeableness_score': 0.0,\n",
       "  'conscientiousness_score': 1.0,\n",
       "  'openness_score': 1.0},\n",
       " 'cluster_two': {'extroversion_score': 0.0,\n",
       "  'neuroticism_score': 0.5266774246070499,\n",
       "  'agreeableness_score': 1.0,\n",
       "  'conscientiousness_score': 0.0,\n",
       "  'openness_score': 0.2706157962700227},\n",
       " 'cluster_three': {'extroversion_score': 0.5829270329409761,\n",
       "  'neuroticism_score': 0.0,\n",
       "  'agreeableness_score': 0.35354534551605604,\n",
       "  'conscientiousness_score': 0.20782480416763896,\n",
       "  'openness_score': 0.0},\n",
       " 'cluster_four': {'extroversion_score': 0.8441415528469063,\n",
       "  'neuroticism_score': 0.9505598140676451,\n",
       "  'agreeableness_score': 0.1261143679011729,\n",
       "  'conscientiousness_score': 0.8600415240193192,\n",
       "  'openness_score': 0.8848220750657754},\n",
       " 'cluster_five': {'extroversion_score': 0.361530138488812,\n",
       "  'neuroticism_score': 0.7200735181736958,\n",
       "  'agreeableness_score': 0.5500146874169198,\n",
       "  'conscientiousness_score': 0.3895502283488151,\n",
       "  'openness_score': 0.5814584822317371},\n",
       " 'cluster_six': {'extroversion_score': 0.6383968118713308,\n",
       "  'neuroticism_score': 0.8505468840751043,\n",
       "  'agreeableness_score': 0.4948730789601586,\n",
       "  'conscientiousness_score': 0.6943433416976627,\n",
       "  'openness_score': 0.7786318930322362},\n",
       " 'cluster_seven': {'extroversion_score': 0.9679850092640017,\n",
       "  'neuroticism_score': 0.992179085813225,\n",
       "  'agreeableness_score': 0.12629622067379756,\n",
       "  'conscientiousness_score': 0.9919914909312427,\n",
       "  'openness_score': 0.9778946053054914},\n",
       " 'cluster_eight': {'extroversion_score': 0.2701741425915709,\n",
       "  'neuroticism_score': 0.6947865700517648,\n",
       "  'agreeableness_score': 0.6448240430741015,\n",
       "  'conscientiousness_score': 0.2818516132604176,\n",
       "  'openness_score': 0.45443483292844916},\n",
       " 'cluster_nine': {'extroversion_score': 0.2138600748635372,\n",
       "  'neuroticism_score': 0.6419369629131259,\n",
       "  'agreeableness_score': 0.7427255275584419,\n",
       "  'conscientiousness_score': 0.21180927976540873,\n",
       "  'openness_score': 0.41636629914564033},\n",
       " 'cluster_ten': {'extroversion_score': 0.5177260056644333,\n",
       "  'neuroticism_score': 0.7481189667368449,\n",
       "  'agreeableness_score': 0.7394776039875329,\n",
       "  'conscientiousness_score': 0.5467162284678114,\n",
       "  'openness_score': 0.6371790792165047}}"
      ]
     },
     "execution_count": 114,
     "metadata": {},
     "output_type": "execute_result"
    }
   ],
   "source": [
    "normalized_total_types_scores"
   ]
  },
  {
   "cell_type": "code",
   "execution_count": 115,
   "metadata": {},
   "outputs": [],
   "source": [
    "# Now we can visually represent each personality type into a graph!"
   ]
  },
  {
   "cell_type": "code",
   "execution_count": 116,
   "metadata": {},
   "outputs": [],
   "source": [
    "# importing Numpy and MatPlotLib libraries\n",
    "import numpy as np\n",
    "import matplotlib.pyplot as plt"
   ]
  },
  {
   "cell_type": "code",
   "execution_count": 124,
   "metadata": {},
   "outputs": [
    {
     "data": {
      "image/png": "[encoded data removed]",
      "text/plain": [
       "<Figure size 1440x360 with 1 Axes>"
      ]
     },
     "metadata": {
      "needs_background": "light"
     },
     "output_type": "display_data"
    }
   ],
   "source": [
    "# 1st personality type\n",
    "plt.figure(figsize=(20,5))\n",
    "plt.ylim(0, 1)\n",
    "plt.bar(list(normalized_total_types_scores['cluster_one'].keys()), normalized_total_types_scores['cluster_one'].values(), color='b')\n",
    "plt.show()"
   ]
  },
  {
   "cell_type": "code",
   "execution_count": 126,
   "metadata": {},
   "outputs": [
    {
     "data": {
      "image/png": "[encoded data removed]",
      "text/plain": [
       "<Figure size 1440x360 with 1 Axes>"
      ]
     },
     "metadata": {
      "needs_background": "light"
     },
     "output_type": "display_data"
    }
   ],
   "source": [
    "# 2nd personality type\n",
    "plt.figure(figsize=(20,5))\n",
    "plt.ylim(0, 1)\n",
    "plt.bar(list(normalized_total_types_scores['cluster_two'].keys()), normalized_total_types_scores['cluster_two'].values(), color='b')\n",
    "plt.show()"
   ]
  },
  {
   "cell_type": "code",
   "execution_count": 127,
   "metadata": {},
   "outputs": [
    {
     "data": {
      "image/png": "[encoded data removed]",
      "text/plain": [
       "<Figure size 1440x360 with 1 Axes>"
      ]
     },
     "metadata": {
      "needs_background": "light"
     },
     "output_type": "display_data"
    }
   ],
   "source": [
    "# 3rd personality type\n",
    "plt.figure(figsize=(20,5))\n",
    "plt.ylim(0, 1)\n",
    "plt.bar(list(normalized_total_types_scores['cluster_three'].keys()), normalized_total_types_scores['cluster_three'].values(), color='b')\n",
    "plt.show()"
   ]
  },
  {
   "cell_type": "code",
   "execution_count": 128,
   "metadata": {},
   "outputs": [
    {
     "data": {
      "image/png": "[encoded data removed]",
      "text/plain": [
       "<Figure size 1440x360 with 1 Axes>"
      ]
     },
     "metadata": {
      "needs_background": "light"
     },
     "output_type": "display_data"
    }
   ],
   "source": [
    "# 4th personality type\n",
    "plt.figure(figsize=(20,5))\n",
    "plt.ylim(0, 1)\n",
    "plt.bar(list(normalized_total_types_scores['cluster_four'].keys()), normalized_total_types_scores['cluster_four'].values(), color='b')\n",
    "plt.show()"
   ]
  },
  {
   "cell_type": "code",
   "execution_count": 129,
   "metadata": {},
   "outputs": [
    {
     "data": {
      "image/png": "[encoded data removed]",
      "text/plain": [
       "<Figure size 1440x360 with 1 Axes>"
      ]
     },
     "metadata": {
      "needs_background": "light"
     },
     "output_type": "display_data"
    }
   ],
   "source": [
    "# 5th personality type\n",
    "plt.figure(figsize=(20,5))\n",
    "plt.ylim(0, 1)\n",
    "plt.bar(list(normalized_total_types_scores['cluster_five'].keys()), normalized_total_types_scores['cluster_five'].values(), color='b')\n",
    "plt.show()"
   ]
  },
  {
   "cell_type": "code",
   "execution_count": 130,
   "metadata": {},
   "outputs": [
    {
     "data": {
      "image/png": "[encoded data removed]",
      "text/plain": [
       "<Figure size 1440x360 with 1 Axes>"
      ]
     },
     "metadata": {
      "needs_background": "light"
     },
     "output_type": "display_data"
    }
   ],
   "source": [
    "# 6th personality type\n",
    "plt.figure(figsize=(20,5))\n",
    "plt.ylim(0, 1)\n",
    "plt.bar(list(normalized_total_types_scores['cluster_six'].keys()), normalized_total_types_scores['cluster_six'].values(), color='b')\n",
    "plt.show()"
   ]
  },
  {
   "cell_type": "code",
   "execution_count": 131,
   "metadata": {},
   "outputs": [
    {
     "data": {
      "image/png": "[encoded data removed]",
      "text/plain": [
       "<Figure size 1440x360 with 1 Axes>"
      ]
     },
     "metadata": {
      "needs_background": "light"
     },
     "output_type": "display_data"
    }
   ],
   "source": [
    "# 7th personality type\n",
    "plt.figure(figsize=(20,5))\n",
    "plt.ylim(0, 1)\n",
    "plt.bar(list(normalized_total_types_scores['cluster_seven'].keys()), normalized_total_types_scores['cluster_seven'].values(), color='b')\n",
    "plt.show()"
   ]
  },
  {
   "cell_type": "code",
   "execution_count": 132,
   "metadata": {},
   "outputs": [
    {
     "data": {
      "image/png": "[encoded data removed]",
      "text/plain": [
       "<Figure size 1440x360 with 1 Axes>"
      ]
     },
     "metadata": {
      "needs_background": "light"
     },
     "output_type": "display_data"
    }
   ],
   "source": [
    "# 8th personality type\n",
    "plt.figure(figsize=(20,5))\n",
    "plt.ylim(0, 1)\n",
    "plt.bar(list(normalized_total_types_scores['cluster_eight'].keys()), normalized_total_types_scores['cluster_eight'].values(), color='b')\n",
    "plt.show()"
   ]
  },
  {
   "cell_type": "code",
   "execution_count": 133,
   "metadata": {},
   "outputs": [
    {
     "data": {
      "image/png": "[encoded data removed]",
      "text/plain": [
       "<Figure size 1440x360 with 1 Axes>"
      ]
     },
     "metadata": {
      "needs_background": "light"
     },
     "output_type": "display_data"
    }
   ],
   "source": [
    "# 9th personality type\n",
    "plt.figure(figsize=(20,5))\n",
    "plt.ylim(0, 1)\n",
    "plt.bar(list(normalized_total_types_scores['cluster_nine'].keys()), normalized_total_types_scores['cluster_nine'].values(), color='b')\n",
    "plt.show()"
   ]
  },
  {
   "cell_type": "code",
   "execution_count": 134,
   "metadata": {},
   "outputs": [
    {
     "data": {
      "image/png": "[encoded data removed]",
      "text/plain": [
       "<Figure size 1440x360 with 1 Axes>"
      ]
     },
     "metadata": {
      "needs_background": "light"
     },
     "output_type": "display_data"
    }
   ],
   "source": [
    "# 10th personality type\n",
    "plt.figure(figsize=(20,5))\n",
    "plt.ylim(0, 1)\n",
    "plt.bar(list(normalized_total_types_scores['cluster_ten'].keys()), normalized_total_types_scores['cluster_ten'].values(), color='b')\n",
    "plt.show()"
   ]
  },
  {
   "cell_type": "code",
   "execution_count": null,
   "metadata": {},
   "outputs": [],
   "source": []
  },
  {
   "cell_type": "code",
   "execution_count": null,
   "metadata": {},
   "outputs": [],
   "source": []
  },
  {
   "cell_type": "code",
   "execution_count": null,
   "metadata": {},
   "outputs": [],
   "source": []
  },
  {
   "cell_type": "code",
   "execution_count": null,
   "metadata": {},
   "outputs": [],
   "source": []
  },
  {
   "cell_type": "code",
   "execution_count": null,
   "metadata": {},
   "outputs": [],
   "source": []
  },
  {
   "cell_type": "code",
   "execution_count": null,
   "metadata": {},
   "outputs": [],
   "source": []
  },
  {
   "cell_type": "code",
   "execution_count": null,
   "metadata": {},
   "outputs": [],
   "source": []
  },
  {
   "cell_type": "code",
   "execution_count": null,
   "metadata": {},
   "outputs": [],
   "source": []
  },
  {
   "cell_type": "code",
   "execution_count": null,
   "metadata": {},
   "outputs": [],
   "source": []
  }
 ],
 "metadata": {
  "kernelspec": {
   "display_name": "Python 3",
   "language": "python",
   "name": "python3"
  },
  "language_info": {
   "codemirror_mode": {
    "name": "ipython",
    "version": 3
   },
   "file_extension": ".py",
   "mimetype": "text/x-python",
   "name": "python",
   "nbconvert_exporter": "python",
   "pygments_lexer": "ipython3",
   "version": "3.8.5"
  }
 },
 "nbformat": 4,
 "nbformat_minor": 4
}
