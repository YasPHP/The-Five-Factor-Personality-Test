import pandas as pd

df = pd.read_csv('data-final.csv', delimiter="\t")
